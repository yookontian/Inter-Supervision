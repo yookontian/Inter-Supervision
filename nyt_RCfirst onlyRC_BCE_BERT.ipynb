{
 "cells": [
  {
   "cell_type": "code",
   "execution_count": 1,
   "metadata": {},
   "outputs": [],
   "source": [
    "def print_trainable_parameters(model):\n",
    "    \"\"\"\n",
    "    Prints the number of trainable parameters in the model.\n",
    "    \"\"\"\n",
    "    trainable_params = 0\n",
    "    all_param = 0\n",
    "    for _, param in model.named_parameters():\n",
    "        all_param += param.numel()\n",
    "        if param.requires_grad:\n",
    "            trainable_params += param.numel()\n",
    "    print(\n",
    "        f\"trainable params: {trainable_params} || all params: {all_param} || trainable%: {100 * trainable_params / all_param}\"\n",
    "    )"
   ]
  },
  {
   "attachments": {},
   "cell_type": "markdown",
   "metadata": {},
   "source": [
    "# model, tokenizer"
   ]
  },
  {
   "cell_type": "code",
   "execution_count": 3,
   "metadata": {},
   "outputs": [
    {
     "name": "stderr",
     "output_type": "stream",
     "text": [
      "Some weights of the model checkpoint at bert-base-cased were not used when initializing BertModel: ['cls.predictions.transform.dense.weight', 'cls.predictions.transform.dense.bias', 'cls.predictions.bias', 'cls.seq_relationship.bias', 'cls.predictions.transform.LayerNorm.weight', 'cls.seq_relationship.weight', 'cls.predictions.decoder.weight', 'cls.predictions.transform.LayerNorm.bias']\n",
      "- This IS expected if you are initializing BertModel from the checkpoint of a model trained on another task or with another architecture (e.g. initializing a BertForSequenceClassification model from a BertForPreTraining model).\n",
      "- This IS NOT expected if you are initializing BertModel from the checkpoint of a model that you expect to be exactly identical (initializing a BertForSequenceClassification model from a BertForSequenceClassification model).\n"
     ]
    }
   ],
   "source": [
    "from transformers import AutoModel, BertTokenizer, BertForSequenceClassification\n",
    "\n",
    "tokenizer = BertTokenizer.from_pretrained('bert-base-cased')\n",
    "\n",
    "bert = AutoModel.from_pretrained('bert-base-cased')\n",
    "\n",
    "# model = BertForSequenceClassification.from_pretrained('bert-base-cased', num_labels=25, problem_type = \"multi_label_classification\")"
   ]
  },
  {
   "cell_type": "code",
   "execution_count": 71,
   "metadata": {},
   "outputs": [
    {
     "data": {
      "text/plain": [
       "BertModel(\n",
       "  (embeddings): BertEmbeddings(\n",
       "    (word_embeddings): Embedding(28996, 768, padding_idx=0)\n",
       "    (position_embeddings): Embedding(512, 768)\n",
       "    (token_type_embeddings): Embedding(2, 768)\n",
       "    (LayerNorm): LayerNorm((768,), eps=1e-12, elementwise_affine=True)\n",
       "    (dropout): Dropout(p=0.1, inplace=False)\n",
       "  )\n",
       "  (encoder): BertEncoder(\n",
       "    (layer): ModuleList(\n",
       "      (0-11): 12 x BertLayer(\n",
       "        (attention): BertAttention(\n",
       "          (self): BertSelfAttention(\n",
       "            (query): Linear(in_features=768, out_features=768, bias=True)\n",
       "            (key): Linear(in_features=768, out_features=768, bias=True)\n",
       "            (value): Linear(in_features=768, out_features=768, bias=True)\n",
       "            (dropout): Dropout(p=0.1, inplace=False)\n",
       "          )\n",
       "          (output): BertSelfOutput(\n",
       "            (dense): Linear(in_features=768, out_features=768, bias=True)\n",
       "            (LayerNorm): LayerNorm((768,), eps=1e-12, elementwise_affine=True)\n",
       "            (dropout): Dropout(p=0.1, inplace=False)\n",
       "          )\n",
       "        )\n",
       "        (intermediate): BertIntermediate(\n",
       "          (dense): Linear(in_features=768, out_features=3072, bias=True)\n",
       "          (intermediate_act_fn): GELUActivation()\n",
       "        )\n",
       "        (output): BertOutput(\n",
       "          (dense): Linear(in_features=3072, out_features=768, bias=True)\n",
       "          (LayerNorm): LayerNorm((768,), eps=1e-12, elementwise_affine=True)\n",
       "          (dropout): Dropout(p=0.1, inplace=False)\n",
       "        )\n",
       "      )\n",
       "    )\n",
       "  )\n",
       "  (pooler): BertPooler(\n",
       "    (dense): Linear(in_features=768, out_features=768, bias=True)\n",
       "    (activation): Tanh()\n",
       "  )\n",
       ")"
      ]
     },
     "execution_count": 71,
     "metadata": {},
     "output_type": "execute_result"
    }
   ],
   "source": [
    "bert"
   ]
  },
  {
   "cell_type": "code",
   "execution_count": 4,
   "metadata": {},
   "outputs": [],
   "source": [
    "import torch.nn as nn\n",
    "from transformers.modeling_outputs import SequenceClassifierOutput\n",
    "\n",
    "class MultiLabelClassifier(nn.Module):\n",
    "    def __init__(self, base_model, num_labels):\n",
    "        super(MultiLabelClassifier, self).__init__()\n",
    "        self.bert = base_model\n",
    "        self.num_labels = num_labels\n",
    "        self.classifier = nn.Linear(base_model.config.hidden_size, num_labels)\n",
    "        self.dropout = nn.Dropout(base_model.config.hidden_dropout_prob)\n",
    "        self.config = base_model.config\n",
    "\n",
    "    def forward(self, input_ids, \n",
    "                attention_mask=None, \n",
    "                token_type_ids=None,\n",
    "                labels=None,\n",
    "                output_attentions=None,\n",
    "                output_hidden_states=None,\n",
    "                return_dict=None,):\n",
    "        \n",
    "\n",
    "        outputs = self.bert(input_ids=input_ids,\n",
    "            attention_mask=attention_mask,\n",
    "            token_type_ids=token_type_ids,\n",
    "            output_attentions=output_attentions,\n",
    "            output_hidden_states=output_hidden_states,\n",
    "            return_dict=return_dict,)\n",
    "        \n",
    "        pooled_output = outputs[1]\n",
    "\n",
    "        pooled_output = self.dropout(pooled_output)\n",
    "        logits = self.classifier(pooled_output)\n",
    "\n",
    "        loss = None\n",
    "        if labels is not None:\n",
    "            if self.config.problem_type is None:\n",
    "                loss_fct = nn.BCEWithLogitsLoss()\n",
    "                loss = loss_fct(logits.view(-1, self.num_labels),\n",
    "                        labels.float().view(-1, self.num_labels))\n",
    "        if not return_dict:\n",
    "            output = (logits,) + outputs[2:]\n",
    "            return ((loss,) + output) if loss is not None else output\n",
    "\n",
    "        return SequenceClassifierOutput(\n",
    "            loss=loss,\n",
    "            logits=logits,\n",
    "            hidden_states=outputs.hidden_states,\n",
    "            attentions=outputs.attentions,\n",
    "        )\n",
    "\n",
    "model = MultiLabelClassifier(bert, num_labels=25)"
   ]
  },
  {
   "cell_type": "code",
   "execution_count": 4,
   "metadata": {},
   "outputs": [
    {
     "data": {
      "text/plain": [
       "('nyt/BERT_RC/tokenizer/tokenizer_config.json',\n",
       " 'nyt/BERT_RC/tokenizer/special_tokens_map.json',\n",
       " 'nyt/BERT_RC/tokenizer/vocab.txt',\n",
       " 'nyt/BERT_RC/tokenizer/added_tokens.json')"
      ]
     },
     "execution_count": 4,
     "metadata": {},
     "output_type": "execute_result"
    }
   ],
   "source": [
    "# save the tokenizer\n",
    "\n",
    "tokenizer.save_pretrained('nyt/BERT_RC/tokenizer')"
   ]
  },
  {
   "attachments": {},
   "cell_type": "markdown",
   "metadata": {},
   "source": [
    "# data"
   ]
  },
  {
   "cell_type": "code",
   "execution_count": 178,
   "metadata": {},
   "outputs": [],
   "source": [
    "# load the json file from DocRED/data/test.json and DocRED/data/rel_info.json\n",
    "\n",
    "import json\n",
    "\n",
    "# with open('nyt/train.json') as f:\n",
    "#     train_set = json.load(f)\n",
    "\n",
    "with open('nyt/train.json') as f:\n",
    "    train_set = json.load(f)\n",
    "\n",
    "\n",
    "with open('nyt/words2id.json') as f:\n",
    "    word2id = json.load(f)\n",
    "\n",
    "id2word = {v: k for k, v in word2id.items()}\n",
    "\n",
    "\n",
    "with open('nyt/relations2id.json') as f:\n",
    "    rel2id_original = json.load(f)\n",
    "\n"
   ]
  },
  {
   "cell_type": "code",
   "execution_count": 174,
   "metadata": {},
   "outputs": [],
   "source": [
    "\n",
    "\n",
    "id2head_type = {}\n",
    "id2tail_type = {}\n",
    "id2rel = {}\n",
    "\n",
    "for k, v in rel2id_original.items():\n",
    "    if k == \"None\":\n",
    "        id2head_type[v] = \"None\"\n",
    "        id2tail_type[v] = \"None\"\n",
    "        id2rel[v] = \"None\"\n",
    "\n",
    "    else:\n",
    "        id2head_type[v] = k.split('/')[1]\n",
    "        id2tail_type[v] = k.split('/')[2]\n",
    "        id2rel[v] = k.split('/')[3]\n",
    "\n",
    "rel2id = {v: k for k, v in id2rel.items()}"
   ]
  },
  {
   "cell_type": "code",
   "execution_count": 10,
   "metadata": {},
   "outputs": [
    {
     "data": {
      "text/plain": [
       "\"\\nthe names of vertextSet can be the same, but the pos should be different\\nstructure:\\n'vertexSet': \\n    [\\n        {\\n            'pos':[start, end],\\n            'type': 'NER',\\n            'sent_id': 0,\\n            'name': 'string',\\n        },\\n        {}\\n    ]\\n'labels':\\n    [\\n        {\\n            'r': 'Pxx',\\n            'h': 0,\\n            't': 1,\\n            'evidence': [2, 3, 4],\\n        },\\n        {}\\n    ]\\n'title': 'string',\\n'sents':\\n    [\\n        ['word0', 'word1',]\\n        ['word0', 'word1',]\\n    ]\\n\""
      ]
     },
     "execution_count": 10,
     "metadata": {},
     "output_type": "execute_result"
    }
   ],
   "source": [
    "\"\"\"\n",
    "the structure of train_set is:\n",
    "\n",
    "[length]\n",
    "[words]\n",
    "[head, tail, relation, head, tail, relation]\n",
    "\n",
    "\"\"\""
   ]
  },
  {
   "cell_type": "code",
   "execution_count": 179,
   "metadata": {},
   "outputs": [
    {
     "name": "stderr",
     "output_type": "stream",
     "text": [
      "100%|██████████| 5000/5000 [00:00<00:00, 38176.47it/s]\n"
     ]
    }
   ],
   "source": [
    "from tqdm import tqdm\n",
    "\n",
    "relation_dict = {\n",
    "    'text':[],\n",
    "    'entity': [],\n",
    "    'relation': []\n",
    "}\n",
    "id_count = 0\n",
    "\n",
    "for i in tqdm(range(len(train_set[0]))):\n",
    "    \n",
    "\n",
    "    # text\n",
    "    sent = \"\"\n",
    "    for sent_index, word_id in enumerate(train_set[1][i]):\n",
    "        word = id2word[word_id]\n",
    "        # flatten the sent list\n",
    "        sent += word + \" \"\n",
    "\n",
    "    # post process the sents for some spaces\n",
    "    sents = sent.strip()\n",
    "    sents = sent.replace(\"  \", \" \")\n",
    "\n",
    "    relation_dict['text'].append(sent)\n",
    "            \n",
    "    # del sents\n",
    "\n",
    "\n",
    "    # entity\n",
    "    entity = []\n",
    "    entity_for_order = []\n",
    "\n",
    "    # relations\n",
    "    relation_pairs = {rel:[] for rel in rel2id.keys()}\n",
    "\n",
    "    for j in range(0, len(train_set[2][i]), 3):\n",
    "        head_index = train_set[2][i][j]\n",
    "        head = train_set[1][i][head_index]\n",
    "\n",
    "        tail_index = train_set[2][i][j + 1]\n",
    "        tail = train_set[1][i][tail_index]\n",
    "\n",
    "        relation = id2rel[train_set[2][i][j + 2]]\n",
    "\n",
    "        if (head_index, id2head_type[train_set[2][i][j + 2]]) not in entity_for_order:\n",
    "            entity_for_order.append((head_index, id2head_type[train_set[2][i][j + 2]]))\n",
    "        if (tail_index, id2tail_type[train_set[2][i][j + 2]]) not in entity_for_order:\n",
    "            entity_for_order.append((tail_index, id2tail_type[train_set[2][i][j + 2]]))\n",
    "        \n",
    "        relation_pairs[relation].append((id2word[train_set[1][i][head_index]], id2word[train_set[1][i][tail_index]]))\n",
    "\n",
    "    # reorder the entity_for_order by the first element of the tuple\n",
    "    entity_for_order.sort(key=lambda x: x[0])\n",
    "    for tuple_item in entity_for_order:\n",
    "        entity.append((id2word[train_set[1][i][tuple_item[0]]], tuple_item[1]))\n",
    "    \n",
    "    for j in rel2id.keys():\n",
    "        if relation_pairs[j] == []:\n",
    "            relation_pairs[j] = None\n",
    "\n",
    "    # del entity\n",
    "    # del entity_for_order\n",
    "\n",
    "\n",
    "    relation_dict['entity'].append(entity)\n",
    "\n",
    "    relation_dict['relation'].append(relation_pairs)\n",
    "\n",
    "\n",
    "    \n",
    "    # break\n",
    "\n",
    "\n",
    "# save the relation_dict to a json file\n",
    "\n",
    "# with open('nyt/data/sent-pre-process.json', 'w') as f:\n",
    "    # json.dump(relation_dict, f)"
   ]
  },
  {
   "cell_type": "code",
   "execution_count": 118,
   "metadata": {},
   "outputs": [
    {
     "data": {
      "text/plain": [
       "True"
      ]
     },
     "execution_count": 118,
     "metadata": {},
     "output_type": "execute_result"
    }
   ],
   "source": [
    "len(relation_dict['text']) == len(relation_dict['entity']) == len(relation_dict['relation'])"
   ]
  },
  {
   "cell_type": "code",
   "execution_count": 124,
   "metadata": {},
   "outputs": [],
   "source": [
    "import json\n",
    "\n",
    "ner = 1\n",
    "from datasets import Dataset\n",
    "\n",
    "relation_dict = {}\n",
    "if ner:\n",
    "    with open('nyt/data/sent-pre-process.json') as f:\n",
    "        relation_dict = json.load(f)\n",
    "\n",
    "    dataset = Dataset.from_dict(\n",
    "        {\n",
    "            'text': relation_dict['text'],\n",
    "            'entity': relation_dict['entity'],\n",
    "            'relation': relation_dict['relation']\n",
    "        }\n",
    "    )\n",
    "\n",
    "else:\n",
    "    pass"
   ]
  },
  {
   "cell_type": "code",
   "execution_count": 125,
   "metadata": {},
   "outputs": [
    {
     "data": {
      "text/plain": [
       "Dataset({\n",
       "    features: ['text', 'entity', 'relation'],\n",
       "    num_rows: 56195\n",
       "})"
      ]
     },
     "execution_count": 125,
     "metadata": {},
     "output_type": "execute_result"
    }
   ],
   "source": [
    "dataset"
   ]
  },
  {
   "cell_type": "code",
   "execution_count": 126,
   "metadata": {},
   "outputs": [
    {
     "data": {
      "text/plain": [
       "{'text': 'Massachusetts ASTON MAGNA Great Barrington ; also at Bard College , Annandale-on-Hudson , N.Y. , July 1-Aug . ',\n",
       " 'entity': [['College', 'location'], ['Annandale-on-Hudson', 'location']],\n",
       " 'relation': {'None': None,\n",
       "  'administrative_divisions': None,\n",
       "  'advisors': None,\n",
       "  'capital': None,\n",
       "  'children': None,\n",
       "  'company': None,\n",
       "  'contains': [['Annandale-on-Hudson', 'College']],\n",
       "  'country': None,\n",
       "  'ethnicity': None,\n",
       "  'founders': None,\n",
       "  'geographic_distribution': None,\n",
       "  'industry': None,\n",
       "  'location': None,\n",
       "  'major_shareholder_of': None,\n",
       "  'major_shareholders': None,\n",
       "  'nationality': None,\n",
       "  'neighborhood_of': None,\n",
       "  'people': None,\n",
       "  'place_founded': None,\n",
       "  'place_lived': None,\n",
       "  'place_of_birth': None,\n",
       "  'place_of_death': None,\n",
       "  'profession': None,\n",
       "  'religion': None,\n",
       "  'teams': None}}"
      ]
     },
     "execution_count": 126,
     "metadata": {},
     "output_type": "execute_result"
    }
   ],
   "source": [
    "dataset[0]"
   ]
  },
  {
   "cell_type": "code",
   "execution_count": 28,
   "metadata": {},
   "outputs": [
    {
     "data": {
      "text/plain": [
       "['[UNK]', '[SEP]', '[PAD]', '[CLS]', '[MASK]']"
      ]
     },
     "execution_count": 28,
     "metadata": {},
     "output_type": "execute_result"
    }
   ],
   "source": [
    "tokenizer.all_special_tokens"
   ]
  },
  {
   "cell_type": "code",
   "execution_count": 146,
   "metadata": {},
   "outputs": [],
   "source": [
    "def pro_processing_ner(example):\n",
    "    texts = example['text']\n",
    "    input_texts = []\n",
    "    labels = []\n",
    "    for index in range(len(texts)):\n",
    "        # entity extraction and NER\n",
    "        text = texts[index].strip()\n",
    "        text_w_relation = f\"[CLS] \" + text + \" [SEP]\"\n",
    "\n",
    "        label = [ [0] * 25]\n",
    "        label = label[0]\n",
    "        \n",
    "        for relation_type, relation_pair in example['relation'][index].items():\n",
    "            if relation_pair:\n",
    "                # relation classification\n",
    "                label[rel2id[relation_type]] = 1\n",
    "\n",
    "            else:\n",
    "                pass\n",
    "        input_texts.append(text_w_relation)\n",
    "        labels.append(label)\n",
    "    return {\n",
    "        'input_ids': input_texts, \n",
    "        'labels': labels\n",
    "        }"
   ]
  },
  {
   "cell_type": "code",
   "execution_count": 147,
   "metadata": {},
   "outputs": [
    {
     "name": "stderr",
     "output_type": "stream",
     "text": [
      "100%|██████████| 1874/1874 [00:04<00:00, 409.83it/s]\n"
     ]
    }
   ],
   "source": [
    "# feed the dataset:dataset to the pro_processing_ner() function with tokenizer, at each time, we feed 30 examples to the function, and then save the output to a json file\n",
    "# each time the return of the function is a dict, we need to save the dict to a list, and then save the list to a json file\n",
    "\n",
    "import json\n",
    "from tqdm import tqdm\n",
    "\n",
    "\n",
    "output = {\"input_texts\": []}\n",
    "labels = {\"labels\": []}\n",
    "\n",
    "for i in tqdm(range(0, len(dataset), 30)):\n",
    "    result = pro_processing_ner(dataset[i:i+30])\n",
    "    output[\"input_texts\"].extend(result[\"input_ids\"])\n",
    "    labels[\"labels\"].extend(result[\"labels\"])"
   ]
  },
  {
   "cell_type": "code",
   "execution_count": 150,
   "metadata": {},
   "outputs": [
    {
     "data": {
      "text/plain": [
       "\"[CLS] And Abu Izzadeen , who converted to Islam at 17 and heads another successor group to Al Muhajiroun , called Al Ghurabaa , called suicide bombing '' martyrdom operations . '' [SEP]\""
      ]
     },
     "execution_count": 150,
     "metadata": {},
     "output_type": "execute_result"
    }
   ],
   "source": [
    "output[\"input_texts\"][12]"
   ]
  },
  {
   "cell_type": "code",
   "execution_count": 151,
   "metadata": {},
   "outputs": [
    {
     "data": {
      "text/plain": [
       "56195"
      ]
     },
     "execution_count": 151,
     "metadata": {},
     "output_type": "execute_result"
    }
   ],
   "source": [
    "len(output['input_texts'])"
   ]
  },
  {
   "cell_type": "code",
   "execution_count": 152,
   "metadata": {},
   "outputs": [],
   "source": [
    "# make the output[\"input_texts\"] into a dataset\n",
    "from datasets import Dataset\n",
    "\n",
    "input_text_dataset = Dataset.from_dict(\n",
    "    {\n",
    "        'input_texts': output['input_texts'],\n",
    "    }\n",
    ")\n",
    "\n",
    "labels_dataset = Dataset.from_dict(\n",
    "    {\n",
    "        'labels': labels['labels'],\n",
    "    }\n",
    ")\n"
   ]
  },
  {
   "cell_type": "code",
   "execution_count": 153,
   "metadata": {},
   "outputs": [
    {
     "data": {
      "application/vnd.jupyter.widget-view+json": {
       "model_id": "12cf77ba3adc4b92a10b6971153ed192",
       "version_major": 2,
       "version_minor": 0
      },
      "text/plain": [
       "Map:   0%|          | 0/56195 [00:00<?, ? examples/s]"
      ]
     },
     "metadata": {},
     "output_type": "display_data"
    }
   ],
   "source": [
    "tokenized_dataset = input_text_dataset.map(lambda example: tokenizer(example['input_texts'], padding='max_length', add_special_tokens=False, truncation=True, max_length=512, pad_to_max_length=True), batched=True)"
   ]
  },
  {
   "cell_type": "code",
   "execution_count": 154,
   "metadata": {},
   "outputs": [],
   "source": [
    "import torch\n",
    "\n",
    "# add a new column to the tokenized_dataset\n",
    "\n",
    "tokenized_dataset = tokenized_dataset.add_column('labels', labels['labels'])"
   ]
  },
  {
   "cell_type": "code",
   "execution_count": 155,
   "metadata": {},
   "outputs": [
    {
     "data": {
      "text/plain": [
       "Dataset({\n",
       "    features: ['input_ids', 'token_type_ids', 'attention_mask', 'labels'],\n",
       "    num_rows: 56195\n",
       "})"
      ]
     },
     "execution_count": 155,
     "metadata": {},
     "output_type": "execute_result"
    }
   ],
   "source": [
    "# remove the column of input_texts in the tokenized_dataset\n",
    "tokenized_dataset.remove_columns('input_texts')"
   ]
  },
  {
   "cell_type": "code",
   "execution_count": 156,
   "metadata": {},
   "outputs": [
    {
     "data": {
      "application/vnd.jupyter.widget-view+json": {
       "model_id": "0bc2127a4cfb49d6ac4a00023d6655b5",
       "version_major": 2,
       "version_minor": 0
      },
      "text/plain": [
       "Saving the dataset (0/1 shards):   0%|          | 0/56195 [00:00<?, ? examples/s]"
      ]
     },
     "metadata": {},
     "output_type": "display_data"
    }
   ],
   "source": [
    "# save the tokenized_dataset\n",
    "\n",
    "tokenized_dataset.save_to_disk('nyt/BERT_RC/train_data_RC')\n",
    "# with open('DocRED/data/train_ner_short_relation.json', 'w') as f:\n",
    "#     json.dump(tokenized_dataset, f)"
   ]
  },
  {
   "cell_type": "code",
   "execution_count": 5,
   "metadata": {},
   "outputs": [],
   "source": [
    "from datasets import Dataset\n",
    "\n",
    "tokenized_dataset = Dataset.load_from_disk('nyt/BERT_RC/train_data_RC')\n",
    "tokenized_dataset = tokenized_dataset.remove_columns('input_texts')"
   ]
  },
  {
   "cell_type": "code",
   "execution_count": 6,
   "metadata": {},
   "outputs": [],
   "source": [
    "tokenized_dataset.set_format(type='torch', columns=['input_ids', 'attention_mask', 'labels'])"
   ]
  },
  {
   "cell_type": "code",
   "execution_count": 7,
   "metadata": {},
   "outputs": [
    {
     "data": {
      "text/plain": [
       "[{'input_ids': tensor([  101,  1456,  2938, 23616,  9272,  9637,  2249,   150, 13329,  9741,\n",
       "            143,  9919, 21669, 12152,  2162, 22412, 10090,   117,  1340,  1512,\n",
       "            118,  1351,  1476,   119,   102,     0,     0,     0,     0,     0,\n",
       "              0,     0,     0,     0,     0,     0,     0,     0,     0,     0,\n",
       "              0,     0,     0,     0,     0,     0,     0,     0,     0,     0,\n",
       "              0,     0,     0,     0,     0,     0,     0,     0,     0,     0,\n",
       "              0,     0,     0,     0,     0,     0,     0,     0,     0,     0,\n",
       "              0,     0,     0,     0,     0,     0,     0,     0,     0,     0,\n",
       "              0,     0,     0,     0,     0,     0,     0,     0,     0,     0,\n",
       "              0,     0,     0,     0,     0,     0,     0,     0,     0,     0,\n",
       "              0,     0,     0,     0,     0,     0,     0,     0,     0,     0,\n",
       "              0,     0,     0,     0,     0,     0,     0,     0,     0,     0,\n",
       "              0,     0,     0,     0,     0,     0,     0,     0,     0,     0,\n",
       "              0,     0,     0,     0,     0,     0,     0,     0,     0,     0,\n",
       "              0,     0,     0,     0,     0,     0,     0,     0,     0,     0,\n",
       "              0,     0,     0,     0,     0,     0,     0,     0,     0,     0,\n",
       "              0,     0,     0,     0,     0,     0,     0,     0,     0,     0,\n",
       "              0,     0,     0,     0,     0,     0,     0,     0,     0,     0,\n",
       "              0,     0,     0,     0,     0,     0,     0,     0,     0,     0,\n",
       "              0,     0,     0,     0,     0,     0,     0,     0,     0,     0,\n",
       "              0,     0,     0,     0,     0,     0,     0,     0,     0,     0,\n",
       "              0,     0,     0,     0,     0,     0,     0,     0,     0,     0,\n",
       "              0,     0,     0,     0,     0,     0,     0,     0,     0,     0,\n",
       "              0,     0,     0,     0,     0,     0,     0,     0,     0,     0,\n",
       "              0,     0,     0,     0,     0,     0,     0,     0,     0,     0,\n",
       "              0,     0,     0,     0,     0,     0,     0,     0,     0,     0,\n",
       "              0,     0,     0,     0,     0,     0,     0,     0,     0,     0,\n",
       "              0,     0,     0,     0,     0,     0,     0,     0,     0,     0,\n",
       "              0,     0,     0,     0,     0,     0,     0,     0,     0,     0,\n",
       "              0,     0,     0,     0,     0,     0,     0,     0,     0,     0,\n",
       "              0,     0,     0,     0,     0,     0,     0,     0,     0,     0,\n",
       "              0,     0,     0,     0,     0,     0,     0,     0,     0,     0,\n",
       "              0,     0,     0,     0,     0,     0,     0,     0,     0,     0,\n",
       "              0,     0,     0,     0,     0,     0,     0,     0,     0,     0,\n",
       "              0,     0,     0,     0,     0,     0,     0,     0,     0,     0,\n",
       "              0,     0,     0,     0,     0,     0,     0,     0,     0,     0,\n",
       "              0,     0,     0,     0,     0,     0,     0,     0,     0,     0,\n",
       "              0,     0,     0,     0,     0,     0,     0,     0,     0,     0,\n",
       "              0,     0,     0,     0,     0,     0,     0,     0,     0,     0,\n",
       "              0,     0,     0,     0,     0,     0,     0,     0,     0,     0,\n",
       "              0,     0,     0,     0,     0,     0,     0,     0,     0,     0,\n",
       "              0,     0,     0,     0,     0,     0,     0,     0,     0,     0,\n",
       "              0,     0,     0,     0,     0,     0,     0,     0,     0,     0,\n",
       "              0,     0,     0,     0,     0,     0,     0,     0,     0,     0,\n",
       "              0,     0,     0,     0,     0,     0,     0,     0,     0,     0,\n",
       "              0,     0,     0,     0,     0,     0,     0,     0,     0,     0,\n",
       "              0,     0,     0,     0,     0,     0,     0,     0,     0,     0,\n",
       "              0,     0,     0,     0,     0,     0,     0,     0,     0,     0,\n",
       "              0,     0,     0,     0,     0,     0,     0,     0,     0,     0,\n",
       "              0,     0,     0,     0,     0,     0,     0,     0,     0,     0,\n",
       "              0,     0,     0,     0,     0,     0,     0,     0,     0,     0,\n",
       "              0,     0]),\n",
       "  'attention_mask': tensor([1, 1, 1, 1, 1, 1, 1, 1, 1, 1, 1, 1, 1, 1, 1, 1, 1, 1, 1, 1, 1, 1, 1, 1,\n",
       "          1, 0, 0, 0, 0, 0, 0, 0, 0, 0, 0, 0, 0, 0, 0, 0, 0, 0, 0, 0, 0, 0, 0, 0,\n",
       "          0, 0, 0, 0, 0, 0, 0, 0, 0, 0, 0, 0, 0, 0, 0, 0, 0, 0, 0, 0, 0, 0, 0, 0,\n",
       "          0, 0, 0, 0, 0, 0, 0, 0, 0, 0, 0, 0, 0, 0, 0, 0, 0, 0, 0, 0, 0, 0, 0, 0,\n",
       "          0, 0, 0, 0, 0, 0, 0, 0, 0, 0, 0, 0, 0, 0, 0, 0, 0, 0, 0, 0, 0, 0, 0, 0,\n",
       "          0, 0, 0, 0, 0, 0, 0, 0, 0, 0, 0, 0, 0, 0, 0, 0, 0, 0, 0, 0, 0, 0, 0, 0,\n",
       "          0, 0, 0, 0, 0, 0, 0, 0, 0, 0, 0, 0, 0, 0, 0, 0, 0, 0, 0, 0, 0, 0, 0, 0,\n",
       "          0, 0, 0, 0, 0, 0, 0, 0, 0, 0, 0, 0, 0, 0, 0, 0, 0, 0, 0, 0, 0, 0, 0, 0,\n",
       "          0, 0, 0, 0, 0, 0, 0, 0, 0, 0, 0, 0, 0, 0, 0, 0, 0, 0, 0, 0, 0, 0, 0, 0,\n",
       "          0, 0, 0, 0, 0, 0, 0, 0, 0, 0, 0, 0, 0, 0, 0, 0, 0, 0, 0, 0, 0, 0, 0, 0,\n",
       "          0, 0, 0, 0, 0, 0, 0, 0, 0, 0, 0, 0, 0, 0, 0, 0, 0, 0, 0, 0, 0, 0, 0, 0,\n",
       "          0, 0, 0, 0, 0, 0, 0, 0, 0, 0, 0, 0, 0, 0, 0, 0, 0, 0, 0, 0, 0, 0, 0, 0,\n",
       "          0, 0, 0, 0, 0, 0, 0, 0, 0, 0, 0, 0, 0, 0, 0, 0, 0, 0, 0, 0, 0, 0, 0, 0,\n",
       "          0, 0, 0, 0, 0, 0, 0, 0, 0, 0, 0, 0, 0, 0, 0, 0, 0, 0, 0, 0, 0, 0, 0, 0,\n",
       "          0, 0, 0, 0, 0, 0, 0, 0, 0, 0, 0, 0, 0, 0, 0, 0, 0, 0, 0, 0, 0, 0, 0, 0,\n",
       "          0, 0, 0, 0, 0, 0, 0, 0, 0, 0, 0, 0, 0, 0, 0, 0, 0, 0, 0, 0, 0, 0, 0, 0,\n",
       "          0, 0, 0, 0, 0, 0, 0, 0, 0, 0, 0, 0, 0, 0, 0, 0, 0, 0, 0, 0, 0, 0, 0, 0,\n",
       "          0, 0, 0, 0, 0, 0, 0, 0, 0, 0, 0, 0, 0, 0, 0, 0, 0, 0, 0, 0, 0, 0, 0, 0,\n",
       "          0, 0, 0, 0, 0, 0, 0, 0, 0, 0, 0, 0, 0, 0, 0, 0, 0, 0, 0, 0, 0, 0, 0, 0,\n",
       "          0, 0, 0, 0, 0, 0, 0, 0, 0, 0, 0, 0, 0, 0, 0, 0, 0, 0, 0, 0, 0, 0, 0, 0,\n",
       "          0, 0, 0, 0, 0, 0, 0, 0, 0, 0, 0, 0, 0, 0, 0, 0, 0, 0, 0, 0, 0, 0, 0, 0,\n",
       "          0, 0, 0, 0, 0, 0, 0, 0]),\n",
       "  'labels': tensor([0, 0, 0, 0, 0, 0, 0, 0, 0, 0, 0, 0, 0, 0, 0, 0, 0, 0, 0, 0, 0, 0, 1, 0,\n",
       "          0])},\n",
       " {'input_ids': tensor([  101,  1109,  1244,  1311,  9088,  1106,  2470,   117,  3270,   144,\n",
       "           1813,  3293,   117,  1163,  1107,   170,  4195,  1115,  1119,  1125,\n",
       "           2002,  1103,  1237, 23184,  2193,  1107, 26118,  2001, 20792,  1106,\n",
       "           1231, 15622,  1179,  1113,  6356,   117,   170,  1989,  1170,  1119,\n",
       "           2802,  1122,  1804,  1272,  1104,   112,   112, 14207,  2861,  4289,\n",
       "            112,   112,  1373,  1103,  2350,  3070,   117,  1259,   170,  2560,\n",
       "           2321,  1107,  1103,  1331,  1107,  1134,  1594,  3384,  3850, 21813,\n",
       "           1215,   171, 10961,  9753,  2225,   119,   102,     0,     0,     0,\n",
       "              0,     0,     0,     0,     0,     0,     0,     0,     0,     0,\n",
       "              0,     0,     0,     0,     0,     0,     0,     0,     0,     0,\n",
       "              0,     0,     0,     0,     0,     0,     0,     0,     0,     0,\n",
       "              0,     0,     0,     0,     0,     0,     0,     0,     0,     0,\n",
       "              0,     0,     0,     0,     0,     0,     0,     0,     0,     0,\n",
       "              0,     0,     0,     0,     0,     0,     0,     0,     0,     0,\n",
       "              0,     0,     0,     0,     0,     0,     0,     0,     0,     0,\n",
       "              0,     0,     0,     0,     0,     0,     0,     0,     0,     0,\n",
       "              0,     0,     0,     0,     0,     0,     0,     0,     0,     0,\n",
       "              0,     0,     0,     0,     0,     0,     0,     0,     0,     0,\n",
       "              0,     0,     0,     0,     0,     0,     0,     0,     0,     0,\n",
       "              0,     0,     0,     0,     0,     0,     0,     0,     0,     0,\n",
       "              0,     0,     0,     0,     0,     0,     0,     0,     0,     0,\n",
       "              0,     0,     0,     0,     0,     0,     0,     0,     0,     0,\n",
       "              0,     0,     0,     0,     0,     0,     0,     0,     0,     0,\n",
       "              0,     0,     0,     0,     0,     0,     0,     0,     0,     0,\n",
       "              0,     0,     0,     0,     0,     0,     0,     0,     0,     0,\n",
       "              0,     0,     0,     0,     0,     0,     0,     0,     0,     0,\n",
       "              0,     0,     0,     0,     0,     0,     0,     0,     0,     0,\n",
       "              0,     0,     0,     0,     0,     0,     0,     0,     0,     0,\n",
       "              0,     0,     0,     0,     0,     0,     0,     0,     0,     0,\n",
       "              0,     0,     0,     0,     0,     0,     0,     0,     0,     0,\n",
       "              0,     0,     0,     0,     0,     0,     0,     0,     0,     0,\n",
       "              0,     0,     0,     0,     0,     0,     0,     0,     0,     0,\n",
       "              0,     0,     0,     0,     0,     0,     0,     0,     0,     0,\n",
       "              0,     0,     0,     0,     0,     0,     0,     0,     0,     0,\n",
       "              0,     0,     0,     0,     0,     0,     0,     0,     0,     0,\n",
       "              0,     0,     0,     0,     0,     0,     0,     0,     0,     0,\n",
       "              0,     0,     0,     0,     0,     0,     0,     0,     0,     0,\n",
       "              0,     0,     0,     0,     0,     0,     0,     0,     0,     0,\n",
       "              0,     0,     0,     0,     0,     0,     0,     0,     0,     0,\n",
       "              0,     0,     0,     0,     0,     0,     0,     0,     0,     0,\n",
       "              0,     0,     0,     0,     0,     0,     0,     0,     0,     0,\n",
       "              0,     0,     0,     0,     0,     0,     0,     0,     0,     0,\n",
       "              0,     0,     0,     0,     0,     0,     0,     0,     0,     0,\n",
       "              0,     0,     0,     0,     0,     0,     0,     0,     0,     0,\n",
       "              0,     0,     0,     0,     0,     0,     0,     0,     0,     0,\n",
       "              0,     0,     0,     0,     0,     0,     0,     0,     0,     0,\n",
       "              0,     0,     0,     0,     0,     0,     0,     0,     0,     0,\n",
       "              0,     0,     0,     0,     0,     0,     0,     0,     0,     0,\n",
       "              0,     0,     0,     0,     0,     0,     0,     0,     0,     0,\n",
       "              0,     0,     0,     0,     0,     0,     0,     0,     0,     0,\n",
       "              0,     0,     0,     0,     0,     0,     0,     0,     0,     0,\n",
       "              0,     0]),\n",
       "  'attention_mask': tensor([1, 1, 1, 1, 1, 1, 1, 1, 1, 1, 1, 1, 1, 1, 1, 1, 1, 1, 1, 1, 1, 1, 1, 1,\n",
       "          1, 1, 1, 1, 1, 1, 1, 1, 1, 1, 1, 1, 1, 1, 1, 1, 1, 1, 1, 1, 1, 1, 1, 1,\n",
       "          1, 1, 1, 1, 1, 1, 1, 1, 1, 1, 1, 1, 1, 1, 1, 1, 1, 1, 1, 1, 1, 1, 1, 1,\n",
       "          1, 1, 1, 1, 1, 0, 0, 0, 0, 0, 0, 0, 0, 0, 0, 0, 0, 0, 0, 0, 0, 0, 0, 0,\n",
       "          0, 0, 0, 0, 0, 0, 0, 0, 0, 0, 0, 0, 0, 0, 0, 0, 0, 0, 0, 0, 0, 0, 0, 0,\n",
       "          0, 0, 0, 0, 0, 0, 0, 0, 0, 0, 0, 0, 0, 0, 0, 0, 0, 0, 0, 0, 0, 0, 0, 0,\n",
       "          0, 0, 0, 0, 0, 0, 0, 0, 0, 0, 0, 0, 0, 0, 0, 0, 0, 0, 0, 0, 0, 0, 0, 0,\n",
       "          0, 0, 0, 0, 0, 0, 0, 0, 0, 0, 0, 0, 0, 0, 0, 0, 0, 0, 0, 0, 0, 0, 0, 0,\n",
       "          0, 0, 0, 0, 0, 0, 0, 0, 0, 0, 0, 0, 0, 0, 0, 0, 0, 0, 0, 0, 0, 0, 0, 0,\n",
       "          0, 0, 0, 0, 0, 0, 0, 0, 0, 0, 0, 0, 0, 0, 0, 0, 0, 0, 0, 0, 0, 0, 0, 0,\n",
       "          0, 0, 0, 0, 0, 0, 0, 0, 0, 0, 0, 0, 0, 0, 0, 0, 0, 0, 0, 0, 0, 0, 0, 0,\n",
       "          0, 0, 0, 0, 0, 0, 0, 0, 0, 0, 0, 0, 0, 0, 0, 0, 0, 0, 0, 0, 0, 0, 0, 0,\n",
       "          0, 0, 0, 0, 0, 0, 0, 0, 0, 0, 0, 0, 0, 0, 0, 0, 0, 0, 0, 0, 0, 0, 0, 0,\n",
       "          0, 0, 0, 0, 0, 0, 0, 0, 0, 0, 0, 0, 0, 0, 0, 0, 0, 0, 0, 0, 0, 0, 0, 0,\n",
       "          0, 0, 0, 0, 0, 0, 0, 0, 0, 0, 0, 0, 0, 0, 0, 0, 0, 0, 0, 0, 0, 0, 0, 0,\n",
       "          0, 0, 0, 0, 0, 0, 0, 0, 0, 0, 0, 0, 0, 0, 0, 0, 0, 0, 0, 0, 0, 0, 0, 0,\n",
       "          0, 0, 0, 0, 0, 0, 0, 0, 0, 0, 0, 0, 0, 0, 0, 0, 0, 0, 0, 0, 0, 0, 0, 0,\n",
       "          0, 0, 0, 0, 0, 0, 0, 0, 0, 0, 0, 0, 0, 0, 0, 0, 0, 0, 0, 0, 0, 0, 0, 0,\n",
       "          0, 0, 0, 0, 0, 0, 0, 0, 0, 0, 0, 0, 0, 0, 0, 0, 0, 0, 0, 0, 0, 0, 0, 0,\n",
       "          0, 0, 0, 0, 0, 0, 0, 0, 0, 0, 0, 0, 0, 0, 0, 0, 0, 0, 0, 0, 0, 0, 0, 0,\n",
       "          0, 0, 0, 0, 0, 0, 0, 0, 0, 0, 0, 0, 0, 0, 0, 0, 0, 0, 0, 0, 0, 0, 0, 0,\n",
       "          0, 0, 0, 0, 0, 0, 0, 0]),\n",
       "  'labels': tensor([0, 0, 0, 0, 0, 0, 0, 0, 0, 0, 0, 0, 0, 0, 0, 0, 0, 0, 0, 0, 0, 0, 1, 0,\n",
       "          0])}]"
      ]
     },
     "execution_count": 7,
     "metadata": {},
     "output_type": "execute_result"
    }
   ],
   "source": [
    "tokenized_dataset.__getitems__([1,4])"
   ]
  },
  {
   "cell_type": "code",
   "execution_count": 8,
   "metadata": {},
   "outputs": [],
   "source": [
    "import torch\n",
    "\n",
    "model.eval()\n",
    "\n",
    "with torch.no_grad():\n",
    "    outputs = model(input_ids=tokenized_dataset['input_ids'][0:2], attention_mask=tokenized_dataset['attention_mask'][0:2], labels=tokenized_dataset['labels'][0:2])"
   ]
  },
  {
   "cell_type": "markdown",
   "metadata": {},
   "source": [
    "# Evaluation"
   ]
  },
  {
   "cell_type": "code",
   "execution_count": 1,
   "metadata": {},
   "outputs": [],
   "source": [
    "import evaluate\n",
    "\n",
    "import numpy as np\n",
    "\n",
    "# load the json file from DocRED/data/test.json and DocRED/data/rel_info.json\n",
    "\n",
    "import json\n",
    "\n",
    "# with open('nyt/train.json') as f:\n",
    "#     train_set = json.load(f)\n",
    "\n",
    "with open('nyt/train.json') as f:\n",
    "    train_set = json.load(f)\n",
    "\n",
    "\n",
    "with open('nyt/words2id.json') as f:\n",
    "    word2id = json.load(f)\n",
    "\n",
    "id2word = {v: k for k, v in word2id.items()}\n",
    "\n",
    "\n",
    "with open('nyt/relations2id.json') as f:\n",
    "    rel2id_original = json.load(f)\n",
    "\n",
    "\n",
    "\n",
    "id2head_type = {}\n",
    "id2tail_type = {}\n",
    "id2rel = {}\n",
    "\n",
    "for k, v in rel2id_original.items():\n",
    "    if k == \"None\":\n",
    "        id2head_type[v] = \"None\"\n",
    "        id2tail_type[v] = \"None\"\n",
    "        id2rel[v] = \"None\"\n",
    "\n",
    "    else:\n",
    "        id2head_type[v] = k.split('/')[1]\n",
    "        id2tail_type[v] = k.split('/')[2]\n",
    "        id2rel[v] = k.split('/')[3]\n",
    "\n",
    "rel2id = {v: k for k, v in id2rel.items()}\n",
    "\n",
    "\n",
    "def compute_metrics(eval_preds):\n",
    "    logits, labels = eval_preds\n",
    "\n",
    "    # for the -1 dim of the logits, if the value is larger than 0, then the prediction is 1, else 0\n",
    "    predictions = np.where(logits > 0, 1, 0)\n",
    "\n",
    "    # if label is tensor, set the label to numpy\n",
    "    if isinstance(labels, torch.Tensor):\n",
    "        labels = labels.numpy()\n",
    "\n",
    "    # Total accuracy\n",
    "    total_accuracy = np.mean(predictions == labels)\n",
    "\n",
    "    # Accuracy for -1\n",
    "    accuracy_0 = np.mean(predictions[labels == 0] == 0)\n",
    "\n",
    "    \n",
    "    # Accuracy for 1\n",
    "    accuracy_1 = np.mean(predictions[labels == 1] == 1)\n",
    "\n",
    "    # accuracy for each class\n",
    "    accuracy_0 = np.mean(predictions[:, 0] == labels[:, 0])\n",
    "    accuracy_1 = np.mean(predictions[:, 1] == labels[:, 1])\n",
    "    accuracy_2 = np.mean(predictions[:, 2] == labels[:, 2])\n",
    "    accuracy_3 = np.mean(predictions[:, 3] == labels[:, 3])\n",
    "    accuracy_4 = np.mean(predictions[:, 4] == labels[:, 4])\n",
    "    accuracy_5 = np.mean(predictions[:, 5] == labels[:, 5])\n",
    "    accuracy_6 = np.mean(predictions[:, 6] == labels[:, 6])\n",
    "    accuracy_7 = np.mean(predictions[:, 7] == labels[:, 7])\n",
    "    accuracy_8 = np.mean(predictions[:, 8] == labels[:, 8])\n",
    "    accuracy_9 = np.mean(predictions[:, 9] == labels[:, 9])\n",
    "    accuracy_10 = np.mean(predictions[:, 10] == labels[:, 10])\n",
    "    accuracy_11 = np.mean(predictions[:, 11] == labels[:, 11])\n",
    "    accuracy_12 = np.mean(predictions[:, 12] == labels[:, 12])\n",
    "    accuracy_13 = np.mean(predictions[:, 13] == labels[:, 13])\n",
    "    accuracy_14 = np.mean(predictions[:, 14] == labels[:, 14])\n",
    "    accuracy_15 = np.mean(predictions[:, 15] == labels[:, 15])\n",
    "    accuracy_16 = np.mean(predictions[:, 16] == labels[:, 16])\n",
    "    accuracy_17 = np.mean(predictions[:, 17] == labels[:, 17])\n",
    "    accuracy_18 = np.mean(predictions[:, 18] == labels[:, 18])\n",
    "    accuracy_19 = np.mean(predictions[:, 19] == labels[:, 19])\n",
    "    accuracy_20 = np.mean(predictions[:, 20] == labels[:, 20])\n",
    "    accuracy_21 = np.mean(predictions[:, 21] == labels[:, 21])\n",
    "    accuracy_22 = np.mean(predictions[:, 22] == labels[:, 22])\n",
    "    accuracy_23 = np.mean(predictions[:, 23] == labels[:, 23])\n",
    "    accuracy_24 = np.mean(predictions[:, 24] == labels[:, 24])\n",
    "\n",
    "    return {\n",
    "        \"precision_for_1\": accuracy_1,\n",
    "        \"precision_for_0\": accuracy_0,\n",
    "        \"precision_for_all\": total_accuracy,\n",
    "        f\"precision_for_{id2rel[0]}\": accuracy_0,\n",
    "        f\"precision_for_{id2rel[1]}\": accuracy_1,\n",
    "        f\"precision_for_{id2rel[2]}\": accuracy_2,\n",
    "        f\"precision_for_{id2rel[3]}\": accuracy_3,\n",
    "        f\"precision_for_{id2rel[4]}\": accuracy_4,\n",
    "        f\"precision_for_{id2rel[5]}\": accuracy_5,\n",
    "        f\"precision_for_{id2rel[6]}\": accuracy_6,\n",
    "        f\"precision_for_{id2rel[7]}\": accuracy_7,\n",
    "        f\"precision_for_{id2rel[8]}\": accuracy_8,\n",
    "        f\"precision_for_{id2rel[9]}\": accuracy_9,\n",
    "        f\"precision_for_{id2rel[10]}\": accuracy_10,\n",
    "        f\"precision_for_{id2rel[11]}\": accuracy_11,\n",
    "        f\"precision_for_{id2rel[12]}\": accuracy_12,\n",
    "        f\"precision_for_{id2rel[13]}\": accuracy_13,\n",
    "        f\"precision_for_{id2rel[14]}\": accuracy_14,\n",
    "        f\"precision_for_{id2rel[15]}\": accuracy_15,\n",
    "        f\"precision_for_{id2rel[16]}\": accuracy_16,\n",
    "        f\"precision_for_{id2rel[17]}\": accuracy_17,\n",
    "        f\"precision_for_{id2rel[18]}\": accuracy_18,\n",
    "        f\"precision_for_{id2rel[19]}\": accuracy_19,\n",
    "        f\"precision_for_{id2rel[20]}\": accuracy_20,\n",
    "        f\"precision_for_{id2rel[21]}\": accuracy_21,\n",
    "        f\"precision_for_{id2rel[22]}\": accuracy_22,\n",
    "        f\"precision_for_{id2rel[23]}\": accuracy_23,\n",
    "        f\"precision_for_{id2rel[24]}\": accuracy_24,\n",
    "    }"
   ]
  },
  {
   "cell_type": "code",
   "execution_count": 10,
   "metadata": {},
   "outputs": [
    {
     "data": {
      "text/plain": [
       "{'precision_for_1': 0.0,\n",
       " 'precision_for_0': 0.5,\n",
       " 'precision_for_all': 0.4,\n",
       " 'precision_for_None': 0.5,\n",
       " 'precision_for_founders': 0.0,\n",
       " 'precision_for_place_of_birth': 1.0,\n",
       " 'precision_for_place_of_death': 1.0,\n",
       " 'precision_for_major_shareholder_of': 0.0,\n",
       " 'precision_for_people': 0.0,\n",
       " 'precision_for_neighborhood_of': 0.0,\n",
       " 'precision_for_location': 1.0,\n",
       " 'precision_for_company': 0.0,\n",
       " 'precision_for_industry': 0.0,\n",
       " 'precision_for_place_founded': 1.0,\n",
       " 'precision_for_country': 0.0,\n",
       " 'precision_for_teams': 0.0,\n",
       " 'precision_for_nationality': 0.0,\n",
       " 'precision_for_religion': 1.0,\n",
       " 'precision_for_advisors': 1.0,\n",
       " 'precision_for_ethnicity': 0.0,\n",
       " 'precision_for_geographic_distribution': 0.0,\n",
       " 'precision_for_place_lived': 0.0,\n",
       " 'precision_for_major_shareholders': 1.0,\n",
       " 'precision_for_profession': 0.5,\n",
       " 'precision_for_capital': 1.0,\n",
       " 'precision_for_contains': 1.0,\n",
       " 'precision_for_administrative_divisions': 0.0,\n",
       " 'precision_for_children': 0.0}"
      ]
     },
     "execution_count": 10,
     "metadata": {},
     "output_type": "execute_result"
    }
   ],
   "source": [
    "compute_metrics((outputs[1], tokenized_dataset['labels'][0:2]))"
   ]
  },
  {
   "cell_type": "code",
   "execution_count": 11,
   "metadata": {},
   "outputs": [],
   "source": [
    "# valid_dataset\n",
    "\n",
    "from datasets import Dataset\n",
    "\n",
    "valid_dataset = Dataset.load_from_disk('nyt/BERT_RC/test_data_RC')\n",
    "valid_dataset = valid_dataset.remove_columns('input_texts')\n",
    "\n",
    "\n",
    "# random sample 1 example from the test_dataset\n",
    "import random\n",
    "# have a random seed\n",
    "random.seed(65)\n",
    "\n",
    "\n",
    "random_test_index = random.randint(0, len(valid_dataset))\n",
    "\n",
    "\n",
    "# print(tokenizer.decode(tokenized_test_dataset[random_test_index * 96]['input_ids']))\n",
    "\n",
    "# output the length of tokenized_test_dataset[index]['input_ids'] except the padding tokens. the tokenized_test_dataset[index]['input_ids'] is tensor\n",
    "\n",
    "valid_dataset = valid_dataset[random_test_index : random_test_index + 10]\n",
    "\n",
    "valid_dataset = Dataset.from_dict(\n",
    "    {\n",
    "        'input_ids': valid_dataset['input_ids'],\n",
    "        'attention_mask': valid_dataset['attention_mask'],\n",
    "        'labels': valid_dataset['labels']\n",
    "    }\n",
    ")\n",
    "\n",
    "\n",
    "valid_dataset.set_format(type='torch', columns=['input_ids', 'attention_mask', 'labels'])"
   ]
  },
  {
   "attachments": {},
   "cell_type": "markdown",
   "metadata": {},
   "source": [
    "# trainer"
   ]
  },
  {
   "cell_type": "code",
   "execution_count": 19,
   "metadata": {},
   "outputs": [
    {
     "data": {
      "text/html": [
       "Finishing last run (ID:wsfgr2os) before initializing another..."
      ],
      "text/plain": [
       "<IPython.core.display.HTML object>"
      ]
     },
     "metadata": {},
     "output_type": "display_data"
    },
    {
     "data": {
      "text/html": [
       "Waiting for W&B process to finish... <strong style=\"color:green\">(success).</strong>"
      ],
      "text/plain": [
       "<IPython.core.display.HTML object>"
      ]
     },
     "metadata": {},
     "output_type": "display_data"
    },
    {
     "data": {
      "text/html": [
       "<style>\n",
       "    table.wandb td:nth-child(1) { padding: 0 10px; text-align: left ; width: auto;} td:nth-child(2) {text-align: left ; width: 100%}\n",
       "    .wandb-row { display: flex; flex-direction: row; flex-wrap: wrap; justify-content: flex-start; width: 100% }\n",
       "    .wandb-col { display: flex; flex-direction: column; flex-basis: 100%; flex: 1; padding: 10px; }\n",
       "    </style>\n",
       "<div class=\"wandb-row\"><div class=\"wandb-col\"><h3>Run history:</h3><br/><table class=\"wandb\"><tr><td>eval/loss</td><td>▁</td></tr><tr><td>eval/precision_for_0</td><td>▁</td></tr><tr><td>eval/precision_for_1</td><td>▁</td></tr><tr><td>eval/precision_for_None</td><td>▁</td></tr><tr><td>eval/precision_for_administrative_divisions</td><td>▁</td></tr><tr><td>eval/precision_for_advisors</td><td>▁</td></tr><tr><td>eval/precision_for_all</td><td>▁</td></tr><tr><td>eval/precision_for_capital</td><td>▁</td></tr><tr><td>eval/precision_for_children</td><td>▁</td></tr><tr><td>eval/precision_for_company</td><td>▁</td></tr><tr><td>eval/precision_for_contains</td><td>▁</td></tr><tr><td>eval/precision_for_country</td><td>▁</td></tr><tr><td>eval/precision_for_ethnicity</td><td>▁</td></tr><tr><td>eval/precision_for_founders</td><td>▁</td></tr><tr><td>eval/precision_for_geographic_distribution</td><td>▁</td></tr><tr><td>eval/precision_for_industry</td><td>▁</td></tr><tr><td>eval/precision_for_location</td><td>▁</td></tr><tr><td>eval/precision_for_major_shareholder_of</td><td>▁</td></tr><tr><td>eval/precision_for_major_shareholders</td><td>▁</td></tr><tr><td>eval/precision_for_nationality</td><td>▁</td></tr><tr><td>eval/precision_for_neighborhood_of</td><td>▁</td></tr><tr><td>eval/precision_for_people</td><td>▁</td></tr><tr><td>eval/precision_for_place_founded</td><td>▁</td></tr><tr><td>eval/precision_for_place_lived</td><td>▁</td></tr><tr><td>eval/precision_for_place_of_birth</td><td>▁</td></tr><tr><td>eval/precision_for_place_of_death</td><td>▁</td></tr><tr><td>eval/precision_for_profession</td><td>▁</td></tr><tr><td>eval/precision_for_religion</td><td>▁</td></tr><tr><td>eval/precision_for_teams</td><td>▁</td></tr><tr><td>eval/runtime</td><td>▁</td></tr><tr><td>eval/samples_per_second</td><td>▁</td></tr><tr><td>eval/steps_per_second</td><td>▁</td></tr><tr><td>train/epoch</td><td>▁█</td></tr><tr><td>train/global_step</td><td>▁█</td></tr><tr><td>train/learning_rate</td><td>▁</td></tr><tr><td>train/loss</td><td>▁</td></tr></table><br/></div><div class=\"wandb-col\"><h3>Run summary:</h3><br/><table class=\"wandb\"><tr><td>eval/loss</td><td>0.07511</td></tr><tr><td>eval/precision_for_0</td><td>1.0</td></tr><tr><td>eval/precision_for_1</td><td>1.0</td></tr><tr><td>eval/precision_for_None</td><td>1.0</td></tr><tr><td>eval/precision_for_administrative_divisions</td><td>1.0</td></tr><tr><td>eval/precision_for_advisors</td><td>1.0</td></tr><tr><td>eval/precision_for_all</td><td>0.98</td></tr><tr><td>eval/precision_for_capital</td><td>1.0</td></tr><tr><td>eval/precision_for_children</td><td>1.0</td></tr><tr><td>eval/precision_for_company</td><td>0.9</td></tr><tr><td>eval/precision_for_contains</td><td>0.9</td></tr><tr><td>eval/precision_for_country</td><td>1.0</td></tr><tr><td>eval/precision_for_ethnicity</td><td>1.0</td></tr><tr><td>eval/precision_for_founders</td><td>1.0</td></tr><tr><td>eval/precision_for_geographic_distribution</td><td>1.0</td></tr><tr><td>eval/precision_for_industry</td><td>1.0</td></tr><tr><td>eval/precision_for_location</td><td>1.0</td></tr><tr><td>eval/precision_for_major_shareholder_of</td><td>1.0</td></tr><tr><td>eval/precision_for_major_shareholders</td><td>1.0</td></tr><tr><td>eval/precision_for_nationality</td><td>1.0</td></tr><tr><td>eval/precision_for_neighborhood_of</td><td>0.9</td></tr><tr><td>eval/precision_for_people</td><td>1.0</td></tr><tr><td>eval/precision_for_place_founded</td><td>1.0</td></tr><tr><td>eval/precision_for_place_lived</td><td>1.0</td></tr><tr><td>eval/precision_for_place_of_birth</td><td>0.9</td></tr><tr><td>eval/precision_for_place_of_death</td><td>0.9</td></tr><tr><td>eval/precision_for_profession</td><td>1.0</td></tr><tr><td>eval/precision_for_religion</td><td>1.0</td></tr><tr><td>eval/precision_for_teams</td><td>1.0</td></tr><tr><td>eval/runtime</td><td>0.2027</td></tr><tr><td>eval/samples_per_second</td><td>49.328</td></tr><tr><td>eval/steps_per_second</td><td>9.866</td></tr><tr><td>train/epoch</td><td>0.11</td></tr><tr><td>train/global_step</td><td>750</td></tr><tr><td>train/learning_rate</td><td>3e-05</td></tr><tr><td>train/loss</td><td>0.3004</td></tr></table><br/></div></div>"
      ],
      "text/plain": [
       "<IPython.core.display.HTML object>"
      ]
     },
     "metadata": {},
     "output_type": "display_data"
    },
    {
     "data": {
      "text/html": [
       " View run <strong style=\"color:#cdcd00\">onlyRC_nyt-25output_5epochs</strong> at: <a href='https://wandb.ai/tian1995/BERT-intermediate/runs/wsfgr2os' target=\"_blank\">https://wandb.ai/tian1995/BERT-intermediate/runs/wsfgr2os</a><br/>Synced 6 W&B file(s), 0 media file(s), 0 artifact file(s) and 0 other file(s)"
      ],
      "text/plain": [
       "<IPython.core.display.HTML object>"
      ]
     },
     "metadata": {},
     "output_type": "display_data"
    },
    {
     "data": {
      "text/html": [
       "Find logs at: <code>./wandb/run-20231003_211318-wsfgr2os/logs</code>"
      ],
      "text/plain": [
       "<IPython.core.display.HTML object>"
      ]
     },
     "metadata": {},
     "output_type": "display_data"
    },
    {
     "data": {
      "text/html": [
       "Successfully finished last run (ID:wsfgr2os). Initializing new run:<br/>"
      ],
      "text/plain": [
       "<IPython.core.display.HTML object>"
      ]
     },
     "metadata": {},
     "output_type": "display_data"
    },
    {
     "data": {
      "application/vnd.jupyter.widget-view+json": {
       "model_id": "11c99279641c4f7284a179f4f733f738",
       "version_major": 2,
       "version_minor": 0
      },
      "text/plain": [
       "VBox(children=(Label(value='Waiting for wandb.init()...\\r'), FloatProgress(value=0.01666943608627965, max=1.0)…"
      ]
     },
     "metadata": {},
     "output_type": "display_data"
    },
    {
     "data": {
      "text/html": [
       "wandb version 0.15.11 is available!  To upgrade, please run:\n",
       " $ pip install wandb --upgrade"
      ],
      "text/plain": [
       "<IPython.core.display.HTML object>"
      ]
     },
     "metadata": {},
     "output_type": "display_data"
    },
    {
     "data": {
      "text/html": [
       "Tracking run with wandb version 0.15.4"
      ],
      "text/plain": [
       "<IPython.core.display.HTML object>"
      ]
     },
     "metadata": {},
     "output_type": "display_data"
    },
    {
     "data": {
      "text/html": [
       "Run data is saved locally in <code>/home/tian/Projects/intermediate-sv/wandb/run-20231003_211948-i49oyvrm</code>"
      ],
      "text/plain": [
       "<IPython.core.display.HTML object>"
      ]
     },
     "metadata": {},
     "output_type": "display_data"
    },
    {
     "data": {
      "text/html": [
       "Syncing run <strong><a href='https://wandb.ai/tian1995/BERT-intermediate/runs/i49oyvrm' target=\"_blank\">onlyRC_nyt-25output_5epochs</a></strong> to <a href='https://wandb.ai/tian1995/BERT-intermediate' target=\"_blank\">Weights & Biases</a> (<a href='https://wandb.me/run' target=\"_blank\">docs</a>)<br/>"
      ],
      "text/plain": [
       "<IPython.core.display.HTML object>"
      ]
     },
     "metadata": {},
     "output_type": "display_data"
    },
    {
     "data": {
      "text/html": [
       " View project at <a href='https://wandb.ai/tian1995/BERT-intermediate' target=\"_blank\">https://wandb.ai/tian1995/BERT-intermediate</a>"
      ],
      "text/plain": [
       "<IPython.core.display.HTML object>"
      ]
     },
     "metadata": {},
     "output_type": "display_data"
    },
    {
     "data": {
      "text/html": [
       " View run at <a href='https://wandb.ai/tian1995/BERT-intermediate/runs/i49oyvrm' target=\"_blank\">https://wandb.ai/tian1995/BERT-intermediate/runs/i49oyvrm</a>"
      ],
      "text/plain": [
       "<IPython.core.display.HTML object>"
      ]
     },
     "metadata": {},
     "output_type": "display_data"
    },
    {
     "data": {
      "text/html": [
       "<button onClick=\"this.nextSibling.style.display='block';this.style.display='none';\">Display W&B run</button><iframe src='https://wandb.ai/tian1995/BERT-intermediate/runs/i49oyvrm?jupyter=true' style='border:none;width:100%;height:420px;display:none;'></iframe>"
      ],
      "text/plain": [
       "<wandb.sdk.wandb_run.Run at 0x7f5de1b96650>"
      ]
     },
     "execution_count": 19,
     "metadata": {},
     "output_type": "execute_result"
    }
   ],
   "source": [
    "import wandb\n",
    "\n",
    "wandb.init(\n",
    "    # set the wandb project where this run will be logged\n",
    "    project=\"BERT-intermediate\",\n",
    "    # notes=\"PubmedBERT-FT-NER_w_NERin_10epochs\",\n",
    "    name=\"onlyRC_nyt-25output_5epochs\"\n",
    ")"
   ]
  },
  {
   "cell_type": "code",
   "execution_count": 14,
   "metadata": {},
   "outputs": [
    {
     "data": {
      "text/plain": [
       "Dataset({\n",
       "    features: ['input_ids', 'token_type_ids', 'attention_mask', 'labels'],\n",
       "    num_rows: 56195\n",
       "})"
      ]
     },
     "execution_count": 14,
     "metadata": {},
     "output_type": "execute_result"
    }
   ],
   "source": [
    "tokenized_dataset"
   ]
  },
  {
   "cell_type": "code",
   "execution_count": 20,
   "metadata": {},
   "outputs": [],
   "source": [
    "import transformers\n",
    "from transformers import TrainingArguments, Trainer\n",
    "import torch.nn as nn\n",
    "\n",
    "\n",
    "training_args = TrainingArguments(\n",
    "    output_dir='nyt/BERT_RC',\n",
    "    num_train_epochs=5,\n",
    "    auto_find_batch_size=True,\n",
    "    load_best_model_at_end=True,\n",
    "    warmup_steps=1000,\n",
    "    weight_decay=0.01,\n",
    "    evaluation_strategy=\"epoch\",\n",
    "    report_to=\"wandb\",\n",
    "    save_strategy=\"epoch\",\n",
    ")\n",
    "\n",
    "\n",
    "class MultilabelTrainer(Trainer):\n",
    "    def compute_loss(self, model, inputs, return_outputs=False):\n",
    "        labels = inputs.get(\"labels\")\n",
    "        outputs = model(**inputs)\n",
    "        logits = outputs[1]\n",
    "        loss_fct = nn.BCEWithLogitsLoss()\n",
    "        loss = loss_fct(logits.view(-1, 25),\n",
    "                        labels.float().view(-1, 25))\n",
    "        return (loss, outputs) if return_outputs else loss\n",
    "\n",
    "trainer = MultilabelTrainer(\n",
    "    model=model, \n",
    "    train_dataset=tokenized_dataset,\n",
    "    eval_dataset=valid_dataset,\n",
    "    args=training_args,\n",
    "    compute_metrics=compute_metrics,\n",
    "    )\n"
   ]
  },
  {
   "cell_type": "code",
   "execution_count": 21,
   "metadata": {},
   "outputs": [
    {
     "name": "stderr",
     "output_type": "stream",
     "text": [
      "/home/tian/mambaforge/envs/BioRED/lib/python3.10/site-packages/transformers/optimization.py:407: FutureWarning: This implementation of AdamW is deprecated and will be removed in a future version. Use the PyTorch implementation torch.optim.AdamW instead, or set `no_deprecation_warning=True` to disable this warning\n",
      "  warnings.warn(\n"
     ]
    },
    {
     "data": {
      "application/vnd.jupyter.widget-view+json": {
       "model_id": "1587411f4ad34811bfc40e54ce4e44d6",
       "version_major": 2,
       "version_minor": 0
      },
      "text/plain": [
       "  0%|          | 0/35125 [00:00<?, ?it/s]"
      ]
     },
     "metadata": {},
     "output_type": "display_data"
    },
    {
     "name": "stdout",
     "output_type": "stream",
     "text": [
      "{'loss': 0.0718, 'learning_rate': 2.5e-05, 'epoch': 0.07}\n",
      "{'loss': 0.0526, 'learning_rate': 5e-05, 'epoch': 0.14}\n",
      "{'loss': 0.0515, 'learning_rate': 4.9267399267399275e-05, 'epoch': 0.21}\n",
      "{'loss': 0.0452, 'learning_rate': 4.8534798534798533e-05, 'epoch': 0.28}\n",
      "{'loss': 0.0411, 'learning_rate': 4.7802197802197806e-05, 'epoch': 0.36}\n",
      "{'loss': 0.0398, 'learning_rate': 4.706959706959707e-05, 'epoch': 0.43}\n",
      "{'loss': 0.0356, 'learning_rate': 4.6336996336996343e-05, 'epoch': 0.5}\n",
      "{'loss': 0.0374, 'learning_rate': 4.56043956043956e-05, 'epoch': 0.57}\n",
      "{'loss': 0.0339, 'learning_rate': 4.4871794871794874e-05, 'epoch': 0.64}\n",
      "{'loss': 0.0313, 'learning_rate': 4.413919413919414e-05, 'epoch': 0.71}\n",
      "{'loss': 0.0328, 'learning_rate': 4.340659340659341e-05, 'epoch': 0.78}\n",
      "{'loss': 0.0296, 'learning_rate': 4.267399267399267e-05, 'epoch': 0.85}\n",
      "{'loss': 0.0324, 'learning_rate': 4.194139194139194e-05, 'epoch': 0.93}\n",
      "{'loss': 0.0282, 'learning_rate': 4.120879120879121e-05, 'epoch': 1.0}\n"
     ]
    },
    {
     "data": {
      "application/vnd.jupyter.widget-view+json": {
       "model_id": "4792bfa208cd42e6a720b6991ea72d77",
       "version_major": 2,
       "version_minor": 0
      },
      "text/plain": [
       "  0%|          | 0/2 [00:00<?, ?it/s]"
      ]
     },
     "metadata": {},
     "output_type": "display_data"
    },
    {
     "name": "stdout",
     "output_type": "stream",
     "text": [
      "{'eval_loss': 0.02058527246117592, 'eval_precision_for_1': 1.0, 'eval_precision_for_0': 1.0, 'eval_precision_for_all': 0.988, 'eval_precision_for_None': 1.0, 'eval_precision_for_founders': 1.0, 'eval_precision_for_place_of_birth': 0.9, 'eval_precision_for_place_of_death': 0.9, 'eval_precision_for_major_shareholder_of': 1.0, 'eval_precision_for_people': 1.0, 'eval_precision_for_neighborhood_of': 1.0, 'eval_precision_for_location': 1.0, 'eval_precision_for_company': 1.0, 'eval_precision_for_industry': 1.0, 'eval_precision_for_place_founded': 1.0, 'eval_precision_for_country': 1.0, 'eval_precision_for_teams': 1.0, 'eval_precision_for_nationality': 0.9, 'eval_precision_for_religion': 1.0, 'eval_precision_for_advisors': 1.0, 'eval_precision_for_ethnicity': 1.0, 'eval_precision_for_geographic_distribution': 1.0, 'eval_precision_for_place_lived': 1.0, 'eval_precision_for_major_shareholders': 1.0, 'eval_precision_for_profession': 1.0, 'eval_precision_for_capital': 1.0, 'eval_precision_for_contains': 1.0, 'eval_precision_for_administrative_divisions': 1.0, 'eval_precision_for_children': 1.0, 'eval_runtime': 0.1972, 'eval_samples_per_second': 50.719, 'eval_steps_per_second': 10.144, 'epoch': 1.0}\n",
      "{'loss': 0.0243, 'learning_rate': 4.047619047619048e-05, 'epoch': 1.07}\n",
      "{'loss': 0.0241, 'learning_rate': 3.974358974358974e-05, 'epoch': 1.14}\n",
      "{'loss': 0.0232, 'learning_rate': 3.901098901098901e-05, 'epoch': 1.21}\n",
      "{'loss': 0.0228, 'learning_rate': 3.827838827838828e-05, 'epoch': 1.28}\n",
      "{'loss': 0.0215, 'learning_rate': 3.754578754578755e-05, 'epoch': 1.35}\n",
      "{'loss': 0.0219, 'learning_rate': 3.6813186813186815e-05, 'epoch': 1.42}\n",
      "{'loss': 0.0202, 'learning_rate': 3.608058608058608e-05, 'epoch': 1.49}\n",
      "{'loss': 0.0214, 'learning_rate': 3.534798534798535e-05, 'epoch': 1.57}\n",
      "{'loss': 0.0216, 'learning_rate': 3.461538461538462e-05, 'epoch': 1.64}\n",
      "{'loss': 0.0205, 'learning_rate': 3.3882783882783884e-05, 'epoch': 1.71}\n",
      "{'loss': 0.0209, 'learning_rate': 3.315018315018315e-05, 'epoch': 1.78}\n",
      "{'loss': 0.0203, 'learning_rate': 3.241758241758242e-05, 'epoch': 1.85}\n",
      "{'loss': 0.0191, 'learning_rate': 3.168498168498169e-05, 'epoch': 1.92}\n",
      "{'loss': 0.0191, 'learning_rate': 3.095238095238095e-05, 'epoch': 1.99}\n"
     ]
    },
    {
     "data": {
      "application/vnd.jupyter.widget-view+json": {
       "model_id": "5901e26028bb431a9223e2373f4e1179",
       "version_major": 2,
       "version_minor": 0
      },
      "text/plain": [
       "  0%|          | 0/2 [00:00<?, ?it/s]"
      ]
     },
     "metadata": {},
     "output_type": "display_data"
    },
    {
     "name": "stdout",
     "output_type": "stream",
     "text": [
      "{'eval_loss': 0.007323176600039005, 'eval_precision_for_1': 1.0, 'eval_precision_for_0': 1.0, 'eval_precision_for_all': 1.0, 'eval_precision_for_None': 1.0, 'eval_precision_for_founders': 1.0, 'eval_precision_for_place_of_birth': 1.0, 'eval_precision_for_place_of_death': 1.0, 'eval_precision_for_major_shareholder_of': 1.0, 'eval_precision_for_people': 1.0, 'eval_precision_for_neighborhood_of': 1.0, 'eval_precision_for_location': 1.0, 'eval_precision_for_company': 1.0, 'eval_precision_for_industry': 1.0, 'eval_precision_for_place_founded': 1.0, 'eval_precision_for_country': 1.0, 'eval_precision_for_teams': 1.0, 'eval_precision_for_nationality': 1.0, 'eval_precision_for_religion': 1.0, 'eval_precision_for_advisors': 1.0, 'eval_precision_for_ethnicity': 1.0, 'eval_precision_for_geographic_distribution': 1.0, 'eval_precision_for_place_lived': 1.0, 'eval_precision_for_major_shareholders': 1.0, 'eval_precision_for_profession': 1.0, 'eval_precision_for_capital': 1.0, 'eval_precision_for_contains': 1.0, 'eval_precision_for_administrative_divisions': 1.0, 'eval_precision_for_children': 1.0, 'eval_runtime': 0.1976, 'eval_samples_per_second': 50.608, 'eval_steps_per_second': 10.122, 'epoch': 2.0}\n",
      "{'loss': 0.0151, 'learning_rate': 3.021978021978022e-05, 'epoch': 2.06}\n",
      "{'loss': 0.0139, 'learning_rate': 2.948717948717949e-05, 'epoch': 2.14}\n",
      "{'loss': 0.0129, 'learning_rate': 2.8754578754578753e-05, 'epoch': 2.21}\n",
      "{'loss': 0.0135, 'learning_rate': 2.8021978021978025e-05, 'epoch': 2.28}\n",
      "{'loss': 0.0134, 'learning_rate': 2.7289377289377287e-05, 'epoch': 2.35}\n",
      "{'loss': 0.0132, 'learning_rate': 2.655677655677656e-05, 'epoch': 2.42}\n",
      "{'loss': 0.0146, 'learning_rate': 2.582417582417583e-05, 'epoch': 2.49}\n",
      "{'loss': 0.0122, 'learning_rate': 2.5091575091575094e-05, 'epoch': 2.56}\n",
      "{'loss': 0.0114, 'learning_rate': 2.435897435897436e-05, 'epoch': 2.63}\n",
      "{'loss': 0.0126, 'learning_rate': 2.3626373626373628e-05, 'epoch': 2.7}\n",
      "{'loss': 0.0123, 'learning_rate': 2.2893772893772894e-05, 'epoch': 2.78}\n",
      "{'loss': 0.0121, 'learning_rate': 2.2161172161172163e-05, 'epoch': 2.85}\n",
      "{'loss': 0.0117, 'learning_rate': 2.1428571428571428e-05, 'epoch': 2.92}\n",
      "{'loss': 0.0131, 'learning_rate': 2.0695970695970697e-05, 'epoch': 2.99}\n"
     ]
    },
    {
     "data": {
      "application/vnd.jupyter.widget-view+json": {
       "model_id": "e45605b986954a1cb3da5ee5b777b857",
       "version_major": 2,
       "version_minor": 0
      },
      "text/plain": [
       "  0%|          | 0/2 [00:00<?, ?it/s]"
      ]
     },
     "metadata": {},
     "output_type": "display_data"
    },
    {
     "name": "stdout",
     "output_type": "stream",
     "text": [
      "{'eval_loss': 0.0030725165270268917, 'eval_precision_for_1': 1.0, 'eval_precision_for_0': 1.0, 'eval_precision_for_all': 1.0, 'eval_precision_for_None': 1.0, 'eval_precision_for_founders': 1.0, 'eval_precision_for_place_of_birth': 1.0, 'eval_precision_for_place_of_death': 1.0, 'eval_precision_for_major_shareholder_of': 1.0, 'eval_precision_for_people': 1.0, 'eval_precision_for_neighborhood_of': 1.0, 'eval_precision_for_location': 1.0, 'eval_precision_for_company': 1.0, 'eval_precision_for_industry': 1.0, 'eval_precision_for_place_founded': 1.0, 'eval_precision_for_country': 1.0, 'eval_precision_for_teams': 1.0, 'eval_precision_for_nationality': 1.0, 'eval_precision_for_religion': 1.0, 'eval_precision_for_advisors': 1.0, 'eval_precision_for_ethnicity': 1.0, 'eval_precision_for_geographic_distribution': 1.0, 'eval_precision_for_place_lived': 1.0, 'eval_precision_for_major_shareholders': 1.0, 'eval_precision_for_profession': 1.0, 'eval_precision_for_capital': 1.0, 'eval_precision_for_contains': 1.0, 'eval_precision_for_administrative_divisions': 1.0, 'eval_precision_for_children': 1.0, 'eval_runtime': 0.1974, 'eval_samples_per_second': 50.667, 'eval_steps_per_second': 10.133, 'epoch': 3.0}\n",
      "{'loss': 0.0098, 'learning_rate': 1.9963369963369966e-05, 'epoch': 3.06}\n",
      "{'loss': 0.0072, 'learning_rate': 1.923076923076923e-05, 'epoch': 3.13}\n",
      "{'loss': 0.0075, 'learning_rate': 1.84981684981685e-05, 'epoch': 3.2}\n",
      "{'loss': 0.0081, 'learning_rate': 1.7765567765567766e-05, 'epoch': 3.27}\n",
      "{'loss': 0.0082, 'learning_rate': 1.7032967032967035e-05, 'epoch': 3.35}\n",
      "{'loss': 0.0077, 'learning_rate': 1.63003663003663e-05, 'epoch': 3.42}\n",
      "{'loss': 0.0084, 'learning_rate': 1.556776556776557e-05, 'epoch': 3.49}\n",
      "{'loss': 0.0075, 'learning_rate': 1.4835164835164836e-05, 'epoch': 3.56}\n",
      "{'loss': 0.0068, 'learning_rate': 1.4102564102564104e-05, 'epoch': 3.63}\n",
      "{'loss': 0.0071, 'learning_rate': 1.336996336996337e-05, 'epoch': 3.7}\n",
      "{'loss': 0.0066, 'learning_rate': 1.2637362637362638e-05, 'epoch': 3.77}\n",
      "{'loss': 0.0078, 'learning_rate': 1.1904761904761905e-05, 'epoch': 3.84}\n",
      "{'loss': 0.0059, 'learning_rate': 1.1172161172161174e-05, 'epoch': 3.91}\n",
      "{'loss': 0.0078, 'learning_rate': 1.0439560439560441e-05, 'epoch': 3.99}\n"
     ]
    },
    {
     "data": {
      "application/vnd.jupyter.widget-view+json": {
       "model_id": "78e0e02230cb42b38ac078be82a7d6ba",
       "version_major": 2,
       "version_minor": 0
      },
      "text/plain": [
       "  0%|          | 0/2 [00:00<?, ?it/s]"
      ]
     },
     "metadata": {},
     "output_type": "display_data"
    },
    {
     "name": "stdout",
     "output_type": "stream",
     "text": [
      "{'eval_loss': 0.0009672858868725598, 'eval_precision_for_1': 1.0, 'eval_precision_for_0': 1.0, 'eval_precision_for_all': 1.0, 'eval_precision_for_None': 1.0, 'eval_precision_for_founders': 1.0, 'eval_precision_for_place_of_birth': 1.0, 'eval_precision_for_place_of_death': 1.0, 'eval_precision_for_major_shareholder_of': 1.0, 'eval_precision_for_people': 1.0, 'eval_precision_for_neighborhood_of': 1.0, 'eval_precision_for_location': 1.0, 'eval_precision_for_company': 1.0, 'eval_precision_for_industry': 1.0, 'eval_precision_for_place_founded': 1.0, 'eval_precision_for_country': 1.0, 'eval_precision_for_teams': 1.0, 'eval_precision_for_nationality': 1.0, 'eval_precision_for_religion': 1.0, 'eval_precision_for_advisors': 1.0, 'eval_precision_for_ethnicity': 1.0, 'eval_precision_for_geographic_distribution': 1.0, 'eval_precision_for_place_lived': 1.0, 'eval_precision_for_major_shareholders': 1.0, 'eval_precision_for_profession': 1.0, 'eval_precision_for_capital': 1.0, 'eval_precision_for_contains': 1.0, 'eval_precision_for_administrative_divisions': 1.0, 'eval_precision_for_children': 1.0, 'eval_runtime': 0.1983, 'eval_samples_per_second': 50.426, 'eval_steps_per_second': 10.085, 'epoch': 4.0}\n",
      "{'loss': 0.0053, 'learning_rate': 9.706959706959708e-06, 'epoch': 4.06}\n",
      "{'loss': 0.0044, 'learning_rate': 8.974358974358976e-06, 'epoch': 4.13}\n",
      "{'loss': 0.0042, 'learning_rate': 8.241758241758243e-06, 'epoch': 4.2}\n",
      "{'loss': 0.0046, 'learning_rate': 7.509157509157509e-06, 'epoch': 4.27}\n",
      "{'loss': 0.004, 'learning_rate': 6.776556776556776e-06, 'epoch': 4.34}\n",
      "{'loss': 0.005, 'learning_rate': 6.043956043956044e-06, 'epoch': 4.41}\n",
      "{'loss': 0.0038, 'learning_rate': 5.3113553113553116e-06, 'epoch': 4.48}\n",
      "{'loss': 0.0048, 'learning_rate': 4.578754578754579e-06, 'epoch': 4.56}\n",
      "{'loss': 0.0037, 'learning_rate': 3.846153846153847e-06, 'epoch': 4.63}\n",
      "{'loss': 0.0036, 'learning_rate': 3.1135531135531136e-06, 'epoch': 4.7}\n",
      "{'loss': 0.0035, 'learning_rate': 2.3809523809523808e-06, 'epoch': 4.77}\n",
      "{'loss': 0.0028, 'learning_rate': 1.6483516483516484e-06, 'epoch': 4.84}\n",
      "{'loss': 0.0035, 'learning_rate': 9.157509157509158e-07, 'epoch': 4.91}\n",
      "{'loss': 0.0031, 'learning_rate': 1.8315018315018315e-07, 'epoch': 4.98}\n"
     ]
    },
    {
     "data": {
      "application/vnd.jupyter.widget-view+json": {
       "model_id": "72bbd95d023e481790669a5ad6ee7b97",
       "version_major": 2,
       "version_minor": 0
      },
      "text/plain": [
       "  0%|          | 0/2 [00:00<?, ?it/s]"
      ]
     },
     "metadata": {},
     "output_type": "display_data"
    },
    {
     "name": "stdout",
     "output_type": "stream",
     "text": [
      "{'eval_loss': 0.0008542523719370365, 'eval_precision_for_1': 1.0, 'eval_precision_for_0': 1.0, 'eval_precision_for_all': 1.0, 'eval_precision_for_None': 1.0, 'eval_precision_for_founders': 1.0, 'eval_precision_for_place_of_birth': 1.0, 'eval_precision_for_place_of_death': 1.0, 'eval_precision_for_major_shareholder_of': 1.0, 'eval_precision_for_people': 1.0, 'eval_precision_for_neighborhood_of': 1.0, 'eval_precision_for_location': 1.0, 'eval_precision_for_company': 1.0, 'eval_precision_for_industry': 1.0, 'eval_precision_for_place_founded': 1.0, 'eval_precision_for_country': 1.0, 'eval_precision_for_teams': 1.0, 'eval_precision_for_nationality': 1.0, 'eval_precision_for_religion': 1.0, 'eval_precision_for_advisors': 1.0, 'eval_precision_for_ethnicity': 1.0, 'eval_precision_for_geographic_distribution': 1.0, 'eval_precision_for_place_lived': 1.0, 'eval_precision_for_major_shareholders': 1.0, 'eval_precision_for_profession': 1.0, 'eval_precision_for_capital': 1.0, 'eval_precision_for_contains': 1.0, 'eval_precision_for_administrative_divisions': 1.0, 'eval_precision_for_children': 1.0, 'eval_runtime': 0.1967, 'eval_samples_per_second': 50.839, 'eval_steps_per_second': 10.168, 'epoch': 5.0}\n",
      "{'train_runtime': 16307.8052, 'train_samples_per_second': 17.229, 'train_steps_per_second': 2.154, 'train_loss': 0.01721924410511166, 'epoch': 5.0}\n"
     ]
    },
    {
     "data": {
      "text/plain": [
       "TrainOutput(global_step=35125, training_loss=0.01721924410511166, metrics={'train_runtime': 16307.8052, 'train_samples_per_second': 17.229, 'train_steps_per_second': 2.154, 'train_loss': 0.01721924410511166, 'epoch': 5.0})"
      ]
     },
     "execution_count": 21,
     "metadata": {},
     "output_type": "execute_result"
    }
   ],
   "source": [
    "trainer.train()"
   ]
  },
  {
   "cell_type": "code",
   "execution_count": 11,
   "metadata": {},
   "outputs": [
    {
     "data": {
      "text/plain": [
       "Dataset({\n",
       "    features: ['input_ids', 'token_type_ids', 'attention_mask', 'labels'],\n",
       "    num_rows: 56195\n",
       "})"
      ]
     },
     "execution_count": 11,
     "metadata": {},
     "output_type": "execute_result"
    }
   ],
   "source": [
    "tokenized_dataset"
   ]
  },
  {
   "cell_type": "code",
   "execution_count": 22,
   "metadata": {},
   "outputs": [
    {
     "data": {
      "text/html": [
       "Waiting for W&B process to finish... <strong style=\"color:green\">(success).</strong>"
      ],
      "text/plain": [
       "<IPython.core.display.HTML object>"
      ]
     },
     "metadata": {},
     "output_type": "display_data"
    },
    {
     "data": {
      "text/html": [
       "<style>\n",
       "    table.wandb td:nth-child(1) { padding: 0 10px; text-align: left ; width: auto;} td:nth-child(2) {text-align: left ; width: 100%}\n",
       "    .wandb-row { display: flex; flex-direction: row; flex-wrap: wrap; justify-content: flex-start; width: 100% }\n",
       "    .wandb-col { display: flex; flex-direction: column; flex-basis: 100%; flex: 1; padding: 10px; }\n",
       "    </style>\n",
       "<div class=\"wandb-row\"><div class=\"wandb-col\"><h3>Run history:</h3><br/><table class=\"wandb\"><tr><td>eval/loss</td><td>█▃▂▁▁</td></tr><tr><td>eval/precision_for_0</td><td>▁▁▁▁▁</td></tr><tr><td>eval/precision_for_1</td><td>▁▁▁▁▁</td></tr><tr><td>eval/precision_for_None</td><td>▁▁▁▁▁</td></tr><tr><td>eval/precision_for_administrative_divisions</td><td>▁▁▁▁▁</td></tr><tr><td>eval/precision_for_advisors</td><td>▁▁▁▁▁</td></tr><tr><td>eval/precision_for_all</td><td>▁████</td></tr><tr><td>eval/precision_for_capital</td><td>▁▁▁▁▁</td></tr><tr><td>eval/precision_for_children</td><td>▁▁▁▁▁</td></tr><tr><td>eval/precision_for_company</td><td>▁▁▁▁▁</td></tr><tr><td>eval/precision_for_contains</td><td>▁▁▁▁▁</td></tr><tr><td>eval/precision_for_country</td><td>▁▁▁▁▁</td></tr><tr><td>eval/precision_for_ethnicity</td><td>▁▁▁▁▁</td></tr><tr><td>eval/precision_for_founders</td><td>▁▁▁▁▁</td></tr><tr><td>eval/precision_for_geographic_distribution</td><td>▁▁▁▁▁</td></tr><tr><td>eval/precision_for_industry</td><td>▁▁▁▁▁</td></tr><tr><td>eval/precision_for_location</td><td>▁▁▁▁▁</td></tr><tr><td>eval/precision_for_major_shareholder_of</td><td>▁▁▁▁▁</td></tr><tr><td>eval/precision_for_major_shareholders</td><td>▁▁▁▁▁</td></tr><tr><td>eval/precision_for_nationality</td><td>▁████</td></tr><tr><td>eval/precision_for_neighborhood_of</td><td>▁▁▁▁▁</td></tr><tr><td>eval/precision_for_people</td><td>▁▁▁▁▁</td></tr><tr><td>eval/precision_for_place_founded</td><td>▁▁▁▁▁</td></tr><tr><td>eval/precision_for_place_lived</td><td>▁▁▁▁▁</td></tr><tr><td>eval/precision_for_place_of_birth</td><td>▁████</td></tr><tr><td>eval/precision_for_place_of_death</td><td>▁████</td></tr><tr><td>eval/precision_for_profession</td><td>▁▁▁▁▁</td></tr><tr><td>eval/precision_for_religion</td><td>▁▁▁▁▁</td></tr><tr><td>eval/precision_for_teams</td><td>▁▁▁▁▁</td></tr><tr><td>eval/runtime</td><td>▃▅▄█▁</td></tr><tr><td>eval/samples_per_second</td><td>▆▄▅▁█</td></tr><tr><td>eval/steps_per_second</td><td>▆▄▅▁█</td></tr><tr><td>train/epoch</td><td>▁▁▁▂▂▂▂▂▂▃▃▃▃▃▄▄▄▄▄▄▅▅▅▅▅▆▆▆▆▆▆▇▇▇▇▇████</td></tr><tr><td>train/global_step</td><td>▁▁▁▂▂▂▂▂▂▃▃▃▃▃▄▄▄▄▄▄▅▅▅▅▅▆▆▆▆▆▆▇▇▇▇▇████</td></tr><tr><td>train/learning_rate</td><td>▄███▇▇▇▇▇▇▆▆▆▆▆▅▅▅▅▅▅▄▄▄▄▄▃▃▃▃▃▃▂▂▂▂▂▁▁▁</td></tr><tr><td>train/loss</td><td>█▆▅▅▅▄▄▄▃▃▃▃▃▃▃▃▂▂▂▂▂▂▂▂▂▁▂▁▁▁▂▁▁▁▁▁▁▁▁▁</td></tr><tr><td>train/total_flos</td><td>▁</td></tr><tr><td>train/train_loss</td><td>▁</td></tr><tr><td>train/train_runtime</td><td>▁</td></tr><tr><td>train/train_samples_per_second</td><td>▁</td></tr><tr><td>train/train_steps_per_second</td><td>▁</td></tr></table><br/></div><div class=\"wandb-col\"><h3>Run summary:</h3><br/><table class=\"wandb\"><tr><td>eval/loss</td><td>0.00085</td></tr><tr><td>eval/precision_for_0</td><td>1.0</td></tr><tr><td>eval/precision_for_1</td><td>1.0</td></tr><tr><td>eval/precision_for_None</td><td>1.0</td></tr><tr><td>eval/precision_for_administrative_divisions</td><td>1.0</td></tr><tr><td>eval/precision_for_advisors</td><td>1.0</td></tr><tr><td>eval/precision_for_all</td><td>1.0</td></tr><tr><td>eval/precision_for_capital</td><td>1.0</td></tr><tr><td>eval/precision_for_children</td><td>1.0</td></tr><tr><td>eval/precision_for_company</td><td>1.0</td></tr><tr><td>eval/precision_for_contains</td><td>1.0</td></tr><tr><td>eval/precision_for_country</td><td>1.0</td></tr><tr><td>eval/precision_for_ethnicity</td><td>1.0</td></tr><tr><td>eval/precision_for_founders</td><td>1.0</td></tr><tr><td>eval/precision_for_geographic_distribution</td><td>1.0</td></tr><tr><td>eval/precision_for_industry</td><td>1.0</td></tr><tr><td>eval/precision_for_location</td><td>1.0</td></tr><tr><td>eval/precision_for_major_shareholder_of</td><td>1.0</td></tr><tr><td>eval/precision_for_major_shareholders</td><td>1.0</td></tr><tr><td>eval/precision_for_nationality</td><td>1.0</td></tr><tr><td>eval/precision_for_neighborhood_of</td><td>1.0</td></tr><tr><td>eval/precision_for_people</td><td>1.0</td></tr><tr><td>eval/precision_for_place_founded</td><td>1.0</td></tr><tr><td>eval/precision_for_place_lived</td><td>1.0</td></tr><tr><td>eval/precision_for_place_of_birth</td><td>1.0</td></tr><tr><td>eval/precision_for_place_of_death</td><td>1.0</td></tr><tr><td>eval/precision_for_profession</td><td>1.0</td></tr><tr><td>eval/precision_for_religion</td><td>1.0</td></tr><tr><td>eval/precision_for_teams</td><td>1.0</td></tr><tr><td>eval/runtime</td><td>0.1967</td></tr><tr><td>eval/samples_per_second</td><td>50.839</td></tr><tr><td>eval/steps_per_second</td><td>10.168</td></tr><tr><td>train/epoch</td><td>5.0</td></tr><tr><td>train/global_step</td><td>35125</td></tr><tr><td>train/learning_rate</td><td>0.0</td></tr><tr><td>train/loss</td><td>0.0031</td></tr><tr><td>train/total_flos</td><td>0.0</td></tr><tr><td>train/train_loss</td><td>0.01722</td></tr><tr><td>train/train_runtime</td><td>16307.8052</td></tr><tr><td>train/train_samples_per_second</td><td>17.229</td></tr><tr><td>train/train_steps_per_second</td><td>2.154</td></tr></table><br/></div></div>"
      ],
      "text/plain": [
       "<IPython.core.display.HTML object>"
      ]
     },
     "metadata": {},
     "output_type": "display_data"
    },
    {
     "data": {
      "text/html": [
       " View run <strong style=\"color:#cdcd00\">onlyRC_nyt-25output_5epochs</strong> at: <a href='https://wandb.ai/tian1995/BERT-intermediate/runs/i49oyvrm' target=\"_blank\">https://wandb.ai/tian1995/BERT-intermediate/runs/i49oyvrm</a><br/>Synced 6 W&B file(s), 0 media file(s), 0 artifact file(s) and 0 other file(s)"
      ],
      "text/plain": [
       "<IPython.core.display.HTML object>"
      ]
     },
     "metadata": {},
     "output_type": "display_data"
    },
    {
     "data": {
      "text/html": [
       "Find logs at: <code>./wandb/run-20231003_211948-i49oyvrm/logs</code>"
      ],
      "text/plain": [
       "<IPython.core.display.HTML object>"
      ]
     },
     "metadata": {},
     "output_type": "display_data"
    },
    {
     "data": {
      "text/plain": [
       "('nyt/BERT_RC/tokenizer/tokenizer_config.json',\n",
       " 'nyt/BERT_RC/tokenizer/special_tokens_map.json',\n",
       " 'nyt/BERT_RC/tokenizer/vocab.txt',\n",
       " 'nyt/BERT_RC/tokenizer/added_tokens.json')"
      ]
     },
     "execution_count": 22,
     "metadata": {},
     "output_type": "execute_result"
    }
   ],
   "source": [
    "wandb.finish()\n",
    "trainer.save_model(\"nyt/BERT_RC/model-5epochs\")\n",
    "\n",
    "# save the tokenizer\n",
    "tokenizer.save_pretrained(\"nyt/BERT_RC/tokenizer\")"
   ]
  },
  {
   "attachments": {},
   "cell_type": "markdown",
   "metadata": {},
   "source": [
    "# Inference"
   ]
  },
  {
   "cell_type": "code",
   "execution_count": 2,
   "metadata": {},
   "outputs": [],
   "source": [
    "from transformers import AutoModel, BertTokenizer, BertForSequenceClassification\n",
    "\n",
    "tokenizer = BertTokenizer.from_pretrained('bert-base-cased')\n",
    "\n",
    "checkpoint = \"nyt/BERT_RC/model-5epochs/pytorch_model.bin\""
   ]
  },
  {
   "cell_type": "code",
   "execution_count": 3,
   "metadata": {},
   "outputs": [
    {
     "name": "stderr",
     "output_type": "stream",
     "text": [
      "Some weights of the model checkpoint at bert-base-cased were not used when initializing BertModel: ['cls.predictions.bias', 'cls.predictions.decoder.weight', 'cls.predictions.transform.LayerNorm.bias', 'cls.seq_relationship.weight', 'cls.seq_relationship.bias', 'cls.predictions.transform.dense.weight', 'cls.predictions.transform.dense.bias', 'cls.predictions.transform.LayerNorm.weight']\n",
      "- This IS expected if you are initializing BertModel from the checkpoint of a model trained on another task or with another architecture (e.g. initializing a BertForSequenceClassification model from a BertForPreTraining model).\n",
      "- This IS NOT expected if you are initializing BertModel from the checkpoint of a model that you expect to be exactly identical (initializing a BertForSequenceClassification model from a BertForSequenceClassification model).\n"
     ]
    }
   ],
   "source": [
    "from transformers import AutoModel, BertTokenizer, BertForSequenceClassification\n",
    "\n",
    "tokenizer = BertTokenizer.from_pretrained('bert-base-cased')\n",
    "\n",
    "\n",
    "import torch.nn as nn\n",
    "from transformers.modeling_outputs import SequenceClassifierOutput\n",
    "\n",
    "class MultiLabelClassifier(nn.Module):\n",
    "    def __init__(self, num_labels):\n",
    "        super(MultiLabelClassifier, self).__init__()\n",
    "        self.bert = AutoModel.from_pretrained('bert-base-cased')\n",
    "        self.num_labels = num_labels\n",
    "        self.classifier = nn.Linear(self.bert.config.hidden_size, num_labels)\n",
    "        self.dropout = nn.Dropout(self.bert.config.hidden_dropout_prob)\n",
    "        self.config = self.bert.config\n",
    "\n",
    "    def forward(self, input_ids, \n",
    "                attention_mask=None, \n",
    "                token_type_ids=None,\n",
    "                labels=None,\n",
    "                output_attentions=None,\n",
    "                output_hidden_states=None,\n",
    "                return_dict=None,):\n",
    "        \n",
    "\n",
    "        outputs = self.bert(input_ids=input_ids,\n",
    "            attention_mask=attention_mask,\n",
    "            token_type_ids=token_type_ids,\n",
    "            output_attentions=output_attentions,\n",
    "            output_hidden_states=output_hidden_states,\n",
    "            return_dict=return_dict,)\n",
    "        \n",
    "        pooled_output = outputs[1]\n",
    "\n",
    "        pooled_output = self.dropout(pooled_output)\n",
    "        logits = self.classifier(pooled_output)\n",
    "\n",
    "        loss = None\n",
    "        if labels is not None:\n",
    "            if self.config.problem_type is None:\n",
    "                loss_fct = nn.BCEWithLogitsLoss()\n",
    "                loss = loss_fct(logits.view(-1, self.num_labels),\n",
    "                        labels.float().view(-1, self.num_labels))\n",
    "        if not return_dict:\n",
    "            output = (logits,) + outputs[2:]\n",
    "            return ((loss,) + output) if loss is not None else output\n",
    "\n",
    "        return SequenceClassifierOutput(\n",
    "            loss=loss,\n",
    "            logits=logits,\n",
    "            hidden_states=outputs.hidden_states,\n",
    "            attentions=outputs.attentions,\n",
    "        )\n",
    "\n",
    "model = MultiLabelClassifier(num_labels=25)"
   ]
  },
  {
   "cell_type": "code",
   "execution_count": 4,
   "metadata": {},
   "outputs": [
    {
     "data": {
      "text/plain": [
       "<All keys matched successfully>"
      ]
     },
     "execution_count": 4,
     "metadata": {},
     "output_type": "execute_result"
    }
   ],
   "source": [
    "# from transformers import GPT2Tokenizer\n",
    "# tokenizer = GPT2Tokenizer.from_pretrained(\"nyt/BERT_RC/tokenizer\")\n",
    "# using pytorch to load the parameter in \"nyt/BERT_RC/model-5epochs/pytorch_model.bin\" to the model\n",
    "import torch\n",
    "\n",
    "model.load_state_dict(torch.load(checkpoint))"
   ]
  },
  {
   "cell_type": "code",
   "execution_count": 11,
   "metadata": {},
   "outputs": [
    {
     "data": {
      "text/plain": [
       "['[UNK]', '[SEP]', '[PAD]', '[CLS]', '[MASK]']"
      ]
     },
     "execution_count": 11,
     "metadata": {},
     "output_type": "execute_result"
    }
   ],
   "source": [
    "# output all of the special tokens in the tokenizer\n",
    "tokenizer.all_special_tokens"
   ]
  },
  {
   "attachments": {},
   "cell_type": "markdown",
   "metadata": {},
   "source": [
    "test data pre-processing"
   ]
  },
  {
   "cell_type": "code",
   "execution_count": 181,
   "metadata": {},
   "outputs": [],
   "source": [
    "import json\n",
    "\n",
    "from datasets import Dataset\n",
    "\n",
    "ner = 1\n",
    "\n",
    "test_relation_dict = {}\n",
    "if ner:\n",
    "    with open('nyt/data/test-sent-pre-process.json') as f:\n",
    "        test_relation_dict = json.load(f)\n",
    "\n",
    "    test_dataset = Dataset.from_dict(\n",
    "        {\n",
    "            'text': test_relation_dict['text'],\n",
    "            'entity': test_relation_dict['entity'],\n",
    "            'relation': test_relation_dict['relation']\n",
    "        }\n",
    "    )\n",
    "\n",
    "else:\n",
    "    pass\n",
    "\n",
    "\n",
    "dataset = test_dataset"
   ]
  },
  {
   "cell_type": "code",
   "execution_count": 182,
   "metadata": {},
   "outputs": [
    {
     "name": "stderr",
     "output_type": "stream",
     "text": [
      "100%|██████████| 167/167 [00:00<00:00, 387.29it/s]\n"
     ]
    }
   ],
   "source": [
    "def pro_processing_ner(example):\n",
    "    texts = example['text']\n",
    "    input_texts = []\n",
    "    labels = []\n",
    "    for index in range(len(texts)):\n",
    "        # entity extraction and NER\n",
    "        text = texts[index].strip()\n",
    "        text_w_relation = f\"[CLS] \" + text + \" [SEP]\"\n",
    "\n",
    "        label = [ [0] * 25]\n",
    "        label = label[0]\n",
    "        \n",
    "        for relation_type, relation_pair in example['relation'][index].items():\n",
    "            if relation_pair:\n",
    "                # relation classification\n",
    "                label[rel2id[relation_type]] = 1\n",
    "\n",
    "            else:\n",
    "                pass\n",
    "        input_texts.append(text_w_relation)\n",
    "        labels.append(label)\n",
    "    return {\n",
    "        'input_ids': input_texts, \n",
    "        'labels': labels\n",
    "        }\n",
    "\n",
    "import json\n",
    "from tqdm import tqdm\n",
    "\n",
    "\n",
    "output = {\"input_texts\": []}\n",
    "test_labels = []\n",
    "\n",
    "for i in tqdm(range(0, len(dataset), 30)):\n",
    "    result = pro_processing_ner(dataset[i:i+30])\n",
    "    output[\"input_texts\"].extend(result[\"input_ids\"])\n",
    "    test_labels.extend(result[\"labels\"])\n",
    "\n",
    "\n",
    "from datasets import Dataset\n",
    "\n",
    "input_text_dataset = Dataset.from_dict(\n",
    "    {\n",
    "        'input_texts': output['input_texts'],\n",
    "    }\n",
    ")\n"
   ]
  },
  {
   "cell_type": "code",
   "execution_count": 183,
   "metadata": {},
   "outputs": [
    {
     "data": {
      "application/vnd.jupyter.widget-view+json": {
       "model_id": "da518352bb964968815acf18f1a1186c",
       "version_major": 2,
       "version_minor": 0
      },
      "text/plain": [
       "Map:   0%|          | 0/5000 [00:00<?, ? examples/s]"
      ]
     },
     "metadata": {},
     "output_type": "display_data"
    },
    {
     "data": {
      "application/vnd.jupyter.widget-view+json": {
       "model_id": "33f610dc15b4430abe9ce269ec5afdd5",
       "version_major": 2,
       "version_minor": 0
      },
      "text/plain": [
       "Saving the dataset (0/1 shards):   0%|          | 0/5000 [00:00<?, ? examples/s]"
      ]
     },
     "metadata": {},
     "output_type": "display_data"
    }
   ],
   "source": [
    "tokenized_dataset = input_text_dataset.map(lambda example: tokenizer(example['input_texts'], padding='max_length', truncation=True, max_length=512, add_special_tokens=False, pad_to_max_length=True), batched=True)\n",
    "\n",
    "tokenized_dataset.remove_columns('input_texts')\n",
    "tokenized_dataset = tokenized_dataset.add_column('labels', test_labels)\n",
    "\n",
    "tokenized_dataset.save_to_disk('nyt/BERT_RC/test_data_RC')\n",
    "# with open('DocRED/data/train_ner_short_relation.json', 'w') as f:\n",
    "#     json.dump(tokenized_dataset, f)\n",
    "\n"
   ]
  },
  {
   "cell_type": "code",
   "execution_count": 6,
   "metadata": {},
   "outputs": [],
   "source": [
    "from datasets import Dataset\n",
    "\n",
    "test_dataset = Dataset.load_from_disk('nyt/BERT_RC/test_data_RC')\n",
    "# test_dataset = valid_dataset.remove_columns('input_texts')\n",
    "\n",
    "test_dataset.set_format(type='torch', columns=['input_ids', 'attention_mask', 'labels'])"
   ]
  },
  {
   "cell_type": "markdown",
   "metadata": {},
   "source": [
    "whole inference"
   ]
  },
  {
   "cell_type": "code",
   "execution_count": 6,
   "metadata": {},
   "outputs": [],
   "source": [
    "model.eval()\n",
    "model.to(\"cpu\")\n",
    "\n",
    "with torch.no_grad():\n",
    "    outputs = model(input_ids=test_dataset['input_ids'][0:2], attention_mask=test_dataset['attention_mask'][0:2])"
   ]
  },
  {
   "cell_type": "code",
   "execution_count": 7,
   "metadata": {},
   "outputs": [
    {
     "data": {
      "text/plain": [
       "{'precision_for_1': 1.0,\n",
       " 'precision_for_0': 1.0,\n",
       " 'precision_for_all': 0.96,\n",
       " 'precision_for_None': 1.0,\n",
       " 'precision_for_founders': 1.0,\n",
       " 'precision_for_place_of_birth': 1.0,\n",
       " 'precision_for_place_of_death': 0.5,\n",
       " 'precision_for_major_shareholder_of': 1.0,\n",
       " 'precision_for_people': 1.0,\n",
       " 'precision_for_neighborhood_of': 1.0,\n",
       " 'precision_for_location': 1.0,\n",
       " 'precision_for_company': 1.0,\n",
       " 'precision_for_industry': 1.0,\n",
       " 'precision_for_place_founded': 1.0,\n",
       " 'precision_for_country': 1.0,\n",
       " 'precision_for_teams': 1.0,\n",
       " 'precision_for_nationality': 0.5,\n",
       " 'precision_for_religion': 1.0,\n",
       " 'precision_for_advisors': 1.0,\n",
       " 'precision_for_ethnicity': 1.0,\n",
       " 'precision_for_geographic_distribution': 1.0,\n",
       " 'precision_for_place_lived': 1.0,\n",
       " 'precision_for_major_shareholders': 1.0,\n",
       " 'precision_for_profession': 1.0,\n",
       " 'precision_for_capital': 1.0,\n",
       " 'precision_for_contains': 1.0,\n",
       " 'precision_for_administrative_divisions': 1.0,\n",
       " 'precision_for_children': 1.0}"
      ]
     },
     "execution_count": 7,
     "metadata": {},
     "output_type": "execute_result"
    }
   ],
   "source": [
    "compute_metrics((outputs[0], test_dataset['labels'][0:2]))"
   ]
  },
  {
   "cell_type": "code",
   "execution_count": 7,
   "metadata": {},
   "outputs": [
    {
     "data": {
      "application/vnd.jupyter.widget-view+json": {
       "model_id": "c9b867e5c12e46dc81766de31541a57a",
       "version_major": 2,
       "version_minor": 0
      },
      "text/plain": [
       "  0%|          | 0/100 [00:00<?, ?it/s]"
      ]
     },
     "metadata": {},
     "output_type": "display_data"
    },
    {
     "name": "stdout",
     "output_type": "stream",
     "text": [
      "{'precision_for_1': 0.9964000000000003, 'precision_for_0': 1.0, 'precision_for_all': 0.9939520000000001, 'precision_for_None': 1.0, 'precision_for_founders': 0.9964000000000003, 'precision_for_place_of_birth': 0.9730000000000003, 'precision_for_place_of_death': 0.9863999999999998, 'precision_for_major_shareholder_of': 0.9988000000000001, 'precision_for_people': 0.9998, 'precision_for_neighborhood_of': 0.9949999999999999, 'precision_for_location': 0.9992, 'precision_for_company': 0.9922, 'precision_for_industry': 1.0, 'precision_for_place_founded': 0.9974000000000001, 'precision_for_country': 0.9940000000000001, 'precision_for_teams': 0.9990000000000001, 'precision_for_nationality': 0.9858000000000001, 'precision_for_religion': 1.0, 'precision_for_advisors': 0.9997999999999999, 'precision_for_ethnicity': 0.9998, 'precision_for_geographic_distribution': 0.9998, 'precision_for_place_lived': 0.9682000000000001, 'precision_for_major_shareholders': 0.9990000000000001, 'precision_for_profession': 1.0, 'precision_for_capital': 0.9952, 'precision_for_contains': 0.9779999999999994, 'precision_for_administrative_divisions': 0.9940000000000001, 'precision_for_children': 0.9980000000000001}\n"
     ]
    }
   ],
   "source": [
    "from tqdm.notebook import trange, tqdm\n",
    "import torch\n",
    "import numpy as np\n",
    "\n",
    "final_result = {\n",
    "        \"precision_for_1\": [],\n",
    "        \"precision_for_0\": [],\n",
    "        \"precision_for_all\": [],\n",
    "        f\"precision_for_{id2rel[0]}\": [],\n",
    "        f\"precision_for_{id2rel[1]}\": [],\n",
    "        f\"precision_for_{id2rel[2]}\": [],\n",
    "        f\"precision_for_{id2rel[3]}\": [],\n",
    "        f\"precision_for_{id2rel[4]}\": [],\n",
    "        f\"precision_for_{id2rel[5]}\": [],\n",
    "        f\"precision_for_{id2rel[6]}\": [],\n",
    "        f\"precision_for_{id2rel[7]}\": [],\n",
    "        f\"precision_for_{id2rel[8]}\": [],\n",
    "        f\"precision_for_{id2rel[9]}\": [],\n",
    "        f\"precision_for_{id2rel[10]}\": [],\n",
    "        f\"precision_for_{id2rel[11]}\": [],\n",
    "        f\"precision_for_{id2rel[12]}\": [],\n",
    "        f\"precision_for_{id2rel[13]}\": [],\n",
    "        f\"precision_for_{id2rel[14]}\": [],\n",
    "        f\"precision_for_{id2rel[15]}\": [],\n",
    "        f\"precision_for_{id2rel[16]}\": [],\n",
    "        f\"precision_for_{id2rel[17]}\": [],\n",
    "        f\"precision_for_{id2rel[18]}\": [],\n",
    "        f\"precision_for_{id2rel[19]}\": [],\n",
    "        f\"precision_for_{id2rel[20]}\": [],\n",
    "        f\"precision_for_{id2rel[21]}\": [],\n",
    "        f\"precision_for_{id2rel[22]}\": [],\n",
    "        f\"precision_for_{id2rel[23]}\": [],\n",
    "        f\"precision_for_{id2rel[24]}\": [],\n",
    "    }\n",
    "\n",
    "\n",
    "model.eval()\n",
    "outputs = []\n",
    "model.to(\"cuda\")\n",
    "output_results = []\n",
    "\n",
    "\n",
    "with torch.no_grad():\n",
    "    # feed the actually_input to the model by 50 examples each time\n",
    "    for input_index in tqdm(range(0, len(test_dataset), 50)):\n",
    "        # print(input_index + 1, \" / \", len(tokenized_test_dataset))\n",
    "        input_ids =test_dataset[input_index : input_index+50][\"input_ids\"].to(\"cuda\")\n",
    "        attention_mask = test_dataset[input_index : input_index+50][\"attention_mask\"].to(\"cuda\")\n",
    "\n",
    "        output = model(input_ids=input_ids, attention_mask=attention_mask)\n",
    "        # copy output[0] to cpu\n",
    "        pred = output[0].clone().cpu()\n",
    "        result = compute_metrics((pred, test_dataset[input_index : input_index+50][\"labels\"]))\n",
    "\n",
    "        for k, v in result.items():\n",
    "            final_result[k].append(v)\n",
    "\n",
    "\n",
    "result_sum = {}\n",
    "for k, v in final_result.items():  \n",
    "    result_sum[k] = sum(v) / 100\n",
    "\n",
    "print(result_sum)\n"
   ]
  },
  {
   "cell_type": "code",
   "execution_count": 8,
   "metadata": {},
   "outputs": [
    {
     "data": {
      "image/png": "[encoded data removed]",
      "text/plain": [
       "<Figure size 2000x1000 with 1 Axes>"
      ]
     },
     "metadata": {},
     "output_type": "display_data"
    }
   ],
   "source": [
    "# using matplotlib to plot the final_result\n",
    "\n",
    "import matplotlib.pyplot as plt\n",
    "\n",
    "plt.figure(figsize=(20, 10))\n",
    "plt.plot(result_sum.values())\n",
    "\n",
    "plt.xticks(range(len(result_sum)), result_sum.keys(), rotation=90)\n",
    "plt.show()"
   ]
  }
 ],
 "metadata": {
  "kernelspec": {
   "display_name": "BioRED",
   "language": "python",
   "name": "python3"
  },
  "language_info": {
   "codemirror_mode": {
    "name": "ipython",
    "version": 3
   },
   "file_extension": ".py",
   "mimetype": "text/x-python",
   "name": "python",
   "nbconvert_exporter": "python",
   "pygments_lexer": "ipython3",
   "version": "3.10.11"
  },
  "orig_nbformat": 4
 },
 "nbformat": 4,
 "nbformat_minor": 2
}
